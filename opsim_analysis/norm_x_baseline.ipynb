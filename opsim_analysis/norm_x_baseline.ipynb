{
 "cells": [
  {
   "cell_type": "code",
   "execution_count": 1,
   "metadata": {},
   "outputs": [],
   "source": [
    "from __future__ import print_function\n",
    "import matplotlib.pyplot as plt\n",
    "%matplotlib inline\n",
    "import healpy as hp\n",
    "\n",
    "import lsst.sims.maf.db as db\n",
    "import lsst.sims.maf.slicers as slicers\n",
    "import lsst.sims.maf.metrics as metrics\n",
    "import lsst.sims.maf.stackers as stackers\n",
    "import lsst.sims.maf.metricBundles as metricBundles\n",
    "import lsst.sims.maf.plots as plots\n",
    "import numpy as np"
   ]
  },
  {
   "cell_type": "code",
   "execution_count": 2,
   "metadata": {},
   "outputs": [
    {
     "data": {
      "text/plain": [
       "'2.8.0.sims-22-gab2f692'"
      ]
     },
     "execution_count": 2,
     "metadata": {},
     "output_type": "execute_result"
    }
   ],
   "source": [
    "import lsst.sims.maf\n",
    "lsst.sims.maf.__version__"
   ]
  },
  {
   "cell_type": "code",
   "execution_count": 3,
   "metadata": {},
   "outputs": [],
   "source": [
    "# opsdb = db.OpsimDatabase(runName+'.db')\n",
    "runName = 'baseline2018a'\n",
    "# opsdb = db.OpsimDatabase('../../../mothra_2048/data/mothra_2048.db')\n",
    "opsdb = db.OpsimDatabase('baseline2018a.db')\n",
    "outDir = 'stackers_test'\n",
    "sqlconstraint = 'night<730'\n",
    "resultsDb = db.ResultsDb(outDir=outDir)"
   ]
  },
  {
   "cell_type": "code",
   "execution_count": 4,
   "metadata": {},
   "outputs": [
    {
     "name": "stdout",
     "output_type": "stream",
     "text": [
      "Healpix slicer using NSIDE=64, approximate resolution 54.967783 arcminutes\n"
     ]
    }
   ],
   "source": [
    "slicer = slicers.HealpixSlicer(nside=64)\n",
    "stackerList = [stackers.NormAirmassStacker(degrees=True),stackers.HourAngleStacker()]"
   ]
  },
  {
   "cell_type": "code",
   "execution_count": 5,
   "metadata": {},
   "outputs": [],
   "source": [
    "metric = metrics.MedianMetric('normairmass')"
   ]
  },
  {
   "cell_type": "code",
   "execution_count": 6,
   "metadata": {},
   "outputs": [],
   "source": [
    "bundle = metricBundles.MetricBundle(metric, slicer, sqlconstraint, \n",
    "                                    runName=runName,\n",
    "                                    stackerList=stackerList)\n",
    "bgroup = metricBundles.MetricBundleGroup({'normairmass': bundle}, \n",
    "                                         opsdb, outDir=outDir, \n",
    "                                         resultsDb=resultsDb)"
   ]
  },
  {
   "cell_type": "code",
   "execution_count": null,
   "metadata": {},
   "outputs": [
    {
     "name": "stdout",
     "output_type": "stream",
     "text": [
      "Querying database SummaryAllProps with constraint night<730 for columns ['airmass', 'fieldDec', 'fieldRA', 'observationStartLST']\n"
     ]
    }
   ],
   "source": [
    "bgroup.runAll()"
   ]
  },
  {
   "cell_type": "code",
   "execution_count": null,
   "metadata": {},
   "outputs": [],
   "source": [
    "print(bgroup.simData.dtype.names)"
   ]
  },
  {
   "cell_type": "code",
   "execution_count": null,
   "metadata": {},
   "outputs": [],
   "source": [
    "bgroup.simData"
   ]
  },
  {
   "cell_type": "markdown",
   "metadata": {},
   "source": [
    "Use this field (These values are just taken from)\n",
    "\n",
    "RA = 306.24892991\n",
    "\n",
    "DEC = -62.802603\n",
    "\n",
    "HA = 0.04248064\n",
    "\n",
    "Opsim Airmass = 1.18659642"
   ]
  },
  {
   "cell_type": "code",
   "execution_count": null,
   "metadata": {},
   "outputs": [],
   "source": [
    "telescope_lat = -30.2444"
   ]
  },
  {
   "cell_type": "code",
   "execution_count": null,
   "metadata": {},
   "outputs": [],
   "source": [
    "# convert HA in hours to radians\n",
    "ha_rads = (np.pi*0.04248064)/12.0"
   ]
  },
  {
   "cell_type": "code",
   "execution_count": null,
   "metadata": {},
   "outputs": [],
   "source": [
    "dec = np.radians(-62.802603)\n",
    "min_z_possible = np.abs(dec - np.radians(telescope_lat))\n",
    "min_airmass_possible = 1./np.cos(min_z_possible)"
   ]
  },
  {
   "cell_type": "code",
   "execution_count": null,
   "metadata": {},
   "outputs": [],
   "source": [
    "min_airmass_possible"
   ]
  },
  {
   "cell_type": "code",
   "execution_count": null,
   "metadata": {},
   "outputs": [],
   "source": [
    "cos_z = np.sin(np.radians(telescope_lat))*np.sin(dec)+np.cos(np.radians(telescope_lat))*np.cos(dec)*np.cos(ha_rads)\n",
    "calculated_airmass = 1/cos_z\n",
    "calculated_airmass"
   ]
  },
  {
   "cell_type": "code",
   "execution_count": null,
   "metadata": {},
   "outputs": [],
   "source": [
    "calculated_airmass/min_airmass_possible"
   ]
  },
  {
   "cell_type": "code",
   "execution_count": null,
   "metadata": {},
   "outputs": [],
   "source": [
    "# convert HA in hours to radians\n",
    "1.18659642 - calculated_airmass"
   ]
  },
  {
   "cell_type": "code",
   "execution_count": null,
   "metadata": {},
   "outputs": [],
   "source": [
    "#percent change\n",
    "((1.18659642 - calculated_airmass)/1.18659642)*100"
   ]
  },
  {
   "cell_type": "code",
   "execution_count": null,
   "metadata": {},
   "outputs": [],
   "source": [
    "# opsdb.fetchMetricData(['airmass','fieldRA','fieldDec','observationStartMJD'])"
   ]
  }
 ],
 "metadata": {
  "kernelspec": {
   "display_name": "Python 3",
   "language": "python",
   "name": "python3"
  },
  "language_info": {
   "codemirror_mode": {
    "name": "ipython",
    "version": 3
   },
   "file_extension": ".py",
   "mimetype": "text/x-python",
   "name": "python",
   "nbconvert_exporter": "python",
   "pygments_lexer": "ipython3",
   "version": "3.6.2"
  }
 },
 "nbformat": 4,
 "nbformat_minor": 2
}
