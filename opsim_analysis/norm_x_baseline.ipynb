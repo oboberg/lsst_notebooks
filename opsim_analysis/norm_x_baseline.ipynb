{
 "cells": [
  {
   "cell_type": "code",
   "execution_count": 1,
   "metadata": {},
   "outputs": [],
   "source": [
    "from __future__ import print_function\n",
    "import matplotlib.pyplot as plt\n",
    "%matplotlib inline\n",
    "import healpy as hp\n",
    "\n",
    "import lsst.sims.maf.db as db\n",
    "import lsst.sims.maf.slicers as slicers\n",
    "import lsst.sims.maf.metrics as metrics\n",
    "import lsst.sims.maf.stackers as stackers\n",
    "import lsst.sims.maf.metricBundles as metricBundles\n",
    "import lsst.sims.maf.plots as plots\n",
    "import numpy as np"
   ]
  },
  {
   "cell_type": "code",
   "execution_count": 2,
   "metadata": {},
   "outputs": [
    {
     "data": {
      "text/plain": [
       "'2.8.0.sims-22-gab2f692'"
      ]
     },
     "execution_count": 2,
     "metadata": {},
     "output_type": "execute_result"
    }
   ],
   "source": [
    "import lsst.sims.maf\n",
    "lsst.sims.maf.__version__"
   ]
  },
  {
   "cell_type": "code",
   "execution_count": 3,
   "metadata": {},
   "outputs": [],
   "source": [
    "# opsdb = db.OpsimDatabase(runName+'.db')\n",
    "runName = 'baseline2018a'\n",
    "# opsdb = db.OpsimDatabase('../../../mothra_2048/data/mothra_2048.db')\n",
    "opsdb = db.OpsimDatabase('baseline2018a.db')\n",
    "outDir = 'stackers_test'\n",
    "sqlconstraint = 'night<730'\n",
    "resultsDb = db.ResultsDb(outDir=outDir)"
   ]
  },
  {
   "cell_type": "code",
   "execution_count": 4,
   "metadata": {},
   "outputs": [
    {
     "name": "stdout",
     "output_type": "stream",
     "text": [
      "Healpix slicer using NSIDE=64, approximate resolution 54.967783 arcminutes\n"
     ]
    }
   ],
   "source": [
    "slicer = slicers.HealpixSlicer(nside=64)\n",
    "stackerList = [stackers.NormAirmassStacker(degrees=True),stackers.HourAngleStacker()]"
   ]
  },
  {
   "cell_type": "code",
   "execution_count": 5,
   "metadata": {},
   "outputs": [],
   "source": [
    "metric = metrics.MedianMetric('normairmass')"
   ]
  },
  {
   "cell_type": "code",
   "execution_count": 6,
   "metadata": {},
   "outputs": [],
   "source": [
    "bundle = metricBundles.MetricBundle(metric, slicer, sqlconstraint, \n",
    "                                    runName=runName,\n",
    "                                    stackerList=stackerList)\n",
    "bgroup = metricBundles.MetricBundleGroup({'normairmass': bundle}, \n",
    "                                         opsdb, outDir=outDir, \n",
    "                                         resultsDb=resultsDb)"
   ]
  },
  {
   "cell_type": "code",
   "execution_count": 7,
   "metadata": {},
   "outputs": [
    {
     "name": "stdout",
     "output_type": "stream",
     "text": [
      "Querying database SummaryAllProps with constraint night<730 for columns ['airmass', 'fieldDec', 'fieldRA', 'observationStartLST']\n",
      "Found 452269 visits\n",
      "Running:  ['normairmass']\n",
      "Completed metric generation.\n",
      "Running reduce methods.\n",
      "Running summary statistics.\n",
      "Completed.\n"
     ]
    }
   ],
   "source": [
    "bgroup.runAll()"
   ]
  },
  {
   "cell_type": "code",
   "execution_count": 8,
   "metadata": {},
   "outputs": [
    {
     "name": "stdout",
     "output_type": "stream",
     "text": [
      "('airmass', 'fieldDec', 'fieldRA', 'observationStartLST', 'normairmass', 'HA')\n"
     ]
    }
   ],
   "source": [
    "print(bgroup.simData.dtype.names)"
   ]
  },
  {
   "cell_type": "code",
   "execution_count": 9,
   "metadata": {},
   "outputs": [
    {
     "data": {
      "text/plain": [
       "array([ ( 1.00478859, -24.889283,  305.088793,  305.02475404,  1.00040268, -0.00426926),\n",
       "       ( 2.01707179,  29.966322,  302.89208 ,  305.38824654,  1.00209729,  0.1664111 ),\n",
       "       ( 1.18659642, -62.802603,  305.4822  ,  306.1194096 ,  1.00011976,  0.04248064),\n",
       "       ...,\n",
       "       ( 1.10892466,  -4.728603,   76.678001,   78.67264158,  1.00076543,  0.13297604),\n",
       "       ( 1.05076528, -12.40057 ,   78.116992,   78.83976457,  1.00021715,  0.04818484),\n",
       "       ( 1.00345109, -26.053426,   76.714953,   79.14058594,  1.00076756,  0.16170886)],\n",
       "      dtype=[('airmass', '<f8'), ('fieldDec', '<f8'), ('fieldRA', '<f8'), ('observationStartLST', '<f8'), ('normairmass', '<f8'), ('HA', '<f8')])"
      ]
     },
     "execution_count": 9,
     "metadata": {},
     "output_type": "execute_result"
    }
   ],
   "source": [
    "bgroup.simData"
   ]
  },
  {
   "cell_type": "markdown",
   "metadata": {},
   "source": [
    "Use this field (These values are just taken from)\n",
    "\n",
    "RA = 306.24892991\n",
    "\n",
    "DEC = -62.802603\n",
    "\n",
    "HA = 0.04248064\n",
    "\n",
    "Opsim Airmass = 1.18659642"
   ]
  },
  {
   "cell_type": "code",
   "execution_count": 10,
   "metadata": {},
   "outputs": [],
   "source": [
    "telescope_lat = -30.2444"
   ]
  },
  {
   "cell_type": "code",
   "execution_count": 11,
   "metadata": {},
   "outputs": [],
   "source": [
    "# convert HA in hours to radians\n",
    "ha_rads = (np.pi*0.04248064)/12.0"
   ]
  },
  {
   "cell_type": "code",
   "execution_count": 12,
   "metadata": {},
   "outputs": [],
   "source": [
    "dec = np.radians(-62.802603)\n",
    "min_z_possible = np.abs(dec - np.radians(telescope_lat))\n",
    "min_airmass_possible = 1./np.cos(min_z_possible)"
   ]
  },
  {
   "cell_type": "code",
   "execution_count": 13,
   "metadata": {},
   "outputs": [
    {
     "data": {
      "text/plain": [
       "1.1864574844694964"
      ]
     },
     "execution_count": 13,
     "metadata": {},
     "output_type": "execute_result"
    }
   ],
   "source": [
    "min_airmass_possible"
   ]
  },
  {
   "cell_type": "code",
   "execution_count": 14,
   "metadata": {},
   "outputs": [
    {
     "data": {
      "text/plain": [
       "1.186491858343973"
      ]
     },
     "execution_count": 14,
     "metadata": {},
     "output_type": "execute_result"
    }
   ],
   "source": [
    "cos_z = (np.sin(np.radians(telescope_lat))*np.sin(dec)\n",
    "         +np.cos(np.radians(telescope_lat))*np.cos(dec)*np.cos(ha_rads))\n",
    "calculated_airmass = 1/cos_z\n",
    "calculated_airmass"
   ]
  },
  {
   "cell_type": "code",
   "execution_count": 15,
   "metadata": {},
   "outputs": [
    {
     "data": {
      "text/plain": [
       "1.00002897185523"
      ]
     },
     "execution_count": 15,
     "metadata": {},
     "output_type": "execute_result"
    }
   ],
   "source": [
    "calculated_airmass/min_airmass_possible"
   ]
  },
  {
   "cell_type": "code",
   "execution_count": 16,
   "metadata": {},
   "outputs": [
    {
     "data": {
      "text/plain": [
       "0.00010456165602712453"
      ]
     },
     "execution_count": 16,
     "metadata": {},
     "output_type": "execute_result"
    }
   ],
   "source": [
    "# convert HA in hours to radians\n",
    "1.18659642 - calculated_airmass"
   ]
  },
  {
   "cell_type": "code",
   "execution_count": 17,
   "metadata": {},
   "outputs": [
    {
     "data": {
      "text/plain": [
       "0.0088118971425115641"
      ]
     },
     "execution_count": 17,
     "metadata": {},
     "output_type": "execute_result"
    }
   ],
   "source": [
    "#percent change\n",
    "((1.18659642 - calculated_airmass)/1.18659642)*100"
   ]
  },
  {
   "cell_type": "code",
   "execution_count": 18,
   "metadata": {},
   "outputs": [],
   "source": [
    "# opsdb.fetchMetricData(['airmass','fieldRA','fieldDec','observationStartMJD'])"
   ]
  }
 ],
 "metadata": {
  "kernelspec": {
   "display_name": "Python 3",
   "language": "python",
   "name": "python3"
  },
  "language_info": {
   "codemirror_mode": {
    "name": "ipython",
    "version": 3
   },
   "file_extension": ".py",
   "mimetype": "text/x-python",
   "name": "python",
   "nbconvert_exporter": "python",
   "pygments_lexer": "ipython3",
   "version": "3.6.2"
  }
 },
 "nbformat": 4,
 "nbformat_minor": 2
}
