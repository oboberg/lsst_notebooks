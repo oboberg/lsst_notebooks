{
 "cells": [
  {
   "cell_type": "code",
   "execution_count": 1,
   "metadata": {},
   "outputs": [],
   "source": [
    "from __future__ import print_function\n",
    "import lsst.sims.maf.plots as plots\n",
    "import warnings\n",
    "import numpy as np\n",
    "import matplotlib.pyplot as plt\n",
    "%matplotlib inline"
   ]
  },
  {
   "cell_type": "code",
   "execution_count": 2,
   "metadata": {},
   "outputs": [
    {
     "data": {
      "text/html": [
       "\n",
       "    <div class=\"bk-root\">\n",
       "        <a href=\"https://bokeh.pydata.org\" target=\"_blank\" class=\"bk-logo bk-logo-small bk-logo-notebook\"></a>\n",
       "        <span id=\"c067126c-4008-4c2d-9fba-1793158eb747\">Loading BokehJS ...</span>\n",
       "    </div>"
      ]
     },
     "metadata": {},
     "output_type": "display_data"
    },
    {
     "data": {
      "application/javascript": [
       "\n",
       "(function(root) {\n",
       "  function now() {\n",
       "    return new Date();\n",
       "  }\n",
       "\n",
       "  var force = true;\n",
       "\n",
       "  if (typeof (root._bokeh_onload_callbacks) === \"undefined\" || force === true) {\n",
       "    root._bokeh_onload_callbacks = [];\n",
       "    root._bokeh_is_loading = undefined;\n",
       "  }\n",
       "\n",
       "  var JS_MIME_TYPE = 'application/javascript';\n",
       "  var HTML_MIME_TYPE = 'text/html';\n",
       "  var EXEC_MIME_TYPE = 'application/vnd.bokehjs_exec.v0+json';\n",
       "  var CLASS_NAME = 'output_bokeh rendered_html';\n",
       "\n",
       "  /**\n",
       "   * Render data to the DOM node\n",
       "   */\n",
       "  function render(props, node) {\n",
       "    var script = document.createElement(\"script\");\n",
       "    node.appendChild(script);\n",
       "  }\n",
       "\n",
       "  /**\n",
       "   * Handle when an output is cleared or removed\n",
       "   */\n",
       "  function handleClearOutput(event, handle) {\n",
       "    var cell = handle.cell;\n",
       "\n",
       "    var id = cell.output_area._bokeh_element_id;\n",
       "    var server_id = cell.output_area._bokeh_server_id;\n",
       "    // Clean up Bokeh references\n",
       "    if (id !== undefined) {\n",
       "      Bokeh.index[id].model.document.clear();\n",
       "      delete Bokeh.index[id];\n",
       "    }\n",
       "\n",
       "    if (server_id !== undefined) {\n",
       "      // Clean up Bokeh references\n",
       "      var cmd = \"from bokeh.io.state import curstate; print(curstate().uuid_to_server['\" + server_id + \"'].get_sessions()[0].document.roots[0]._id)\";\n",
       "      cell.notebook.kernel.execute(cmd, {\n",
       "        iopub: {\n",
       "          output: function(msg) {\n",
       "            var element_id = msg.content.text.trim();\n",
       "            Bokeh.index[element_id].model.document.clear();\n",
       "            delete Bokeh.index[element_id];\n",
       "          }\n",
       "        }\n",
       "      });\n",
       "      // Destroy server and session\n",
       "      var cmd = \"import bokeh.io.notebook as ion; ion.destroy_server('\" + server_id + \"')\";\n",
       "      cell.notebook.kernel.execute(cmd);\n",
       "    }\n",
       "  }\n",
       "\n",
       "  /**\n",
       "   * Handle when a new output is added\n",
       "   */\n",
       "  function handleAddOutput(event, handle) {\n",
       "    var output_area = handle.output_area;\n",
       "    var output = handle.output;\n",
       "\n",
       "    // limit handleAddOutput to display_data with EXEC_MIME_TYPE content only\n",
       "    if ((output.output_type != \"display_data\") || (!output.data.hasOwnProperty(EXEC_MIME_TYPE))) {\n",
       "      return\n",
       "    }\n",
       "\n",
       "    var toinsert = output_area.element.find(\".\" + CLASS_NAME.split(' ')[0]);\n",
       "\n",
       "    if (output.metadata[EXEC_MIME_TYPE][\"id\"] !== undefined) {\n",
       "      toinsert[0].firstChild.textContent = output.data[JS_MIME_TYPE];\n",
       "      // store reference to embed id on output_area\n",
       "      output_area._bokeh_element_id = output.metadata[EXEC_MIME_TYPE][\"id\"];\n",
       "    }\n",
       "    if (output.metadata[EXEC_MIME_TYPE][\"server_id\"] !== undefined) {\n",
       "      var bk_div = document.createElement(\"div\");\n",
       "      bk_div.innerHTML = output.data[HTML_MIME_TYPE];\n",
       "      var script_attrs = bk_div.children[0].attributes;\n",
       "      for (var i = 0; i < script_attrs.length; i++) {\n",
       "        toinsert[0].firstChild.setAttribute(script_attrs[i].name, script_attrs[i].value);\n",
       "      }\n",
       "      // store reference to server id on output_area\n",
       "      output_area._bokeh_server_id = output.metadata[EXEC_MIME_TYPE][\"server_id\"];\n",
       "    }\n",
       "  }\n",
       "\n",
       "  function register_renderer(events, OutputArea) {\n",
       "\n",
       "    function append_mime(data, metadata, element) {\n",
       "      // create a DOM node to render to\n",
       "      var toinsert = this.create_output_subarea(\n",
       "        metadata,\n",
       "        CLASS_NAME,\n",
       "        EXEC_MIME_TYPE\n",
       "      );\n",
       "      this.keyboard_manager.register_events(toinsert);\n",
       "      // Render to node\n",
       "      var props = {data: data, metadata: metadata[EXEC_MIME_TYPE]};\n",
       "      render(props, toinsert[0]);\n",
       "      element.append(toinsert);\n",
       "      return toinsert\n",
       "    }\n",
       "\n",
       "    /* Handle when an output is cleared or removed */\n",
       "    events.on('clear_output.CodeCell', handleClearOutput);\n",
       "    events.on('delete.Cell', handleClearOutput);\n",
       "\n",
       "    /* Handle when a new output is added */\n",
       "    events.on('output_added.OutputArea', handleAddOutput);\n",
       "\n",
       "    /**\n",
       "     * Register the mime type and append_mime function with output_area\n",
       "     */\n",
       "    OutputArea.prototype.register_mime_type(EXEC_MIME_TYPE, append_mime, {\n",
       "      /* Is output safe? */\n",
       "      safe: true,\n",
       "      /* Index of renderer in `output_area.display_order` */\n",
       "      index: 0\n",
       "    });\n",
       "  }\n",
       "\n",
       "  // register the mime type if in Jupyter Notebook environment and previously unregistered\n",
       "  if (root.Jupyter !== undefined) {\n",
       "    var events = require('base/js/events');\n",
       "    var OutputArea = require('notebook/js/outputarea').OutputArea;\n",
       "\n",
       "    if (OutputArea.prototype.mime_types().indexOf(EXEC_MIME_TYPE) == -1) {\n",
       "      register_renderer(events, OutputArea);\n",
       "    }\n",
       "  }\n",
       "\n",
       "  \n",
       "  if (typeof (root._bokeh_timeout) === \"undefined\" || force === true) {\n",
       "    root._bokeh_timeout = Date.now() + 5000;\n",
       "    root._bokeh_failed_load = false;\n",
       "  }\n",
       "\n",
       "  var NB_LOAD_WARNING = {'data': {'text/html':\n",
       "     \"<div style='background-color: #fdd'>\\n\"+\n",
       "     \"<p>\\n\"+\n",
       "     \"BokehJS does not appear to have successfully loaded. If loading BokehJS from CDN, this \\n\"+\n",
       "     \"may be due to a slow or bad network connection. Possible fixes:\\n\"+\n",
       "     \"</p>\\n\"+\n",
       "     \"<ul>\\n\"+\n",
       "     \"<li>re-rerun `output_notebook()` to attempt to load from CDN again, or</li>\\n\"+\n",
       "     \"<li>use INLINE resources instead, as so:</li>\\n\"+\n",
       "     \"</ul>\\n\"+\n",
       "     \"<code>\\n\"+\n",
       "     \"from bokeh.resources import INLINE\\n\"+\n",
       "     \"output_notebook(resources=INLINE)\\n\"+\n",
       "     \"</code>\\n\"+\n",
       "     \"</div>\"}};\n",
       "\n",
       "  function display_loaded() {\n",
       "    var el = document.getElementById(\"c067126c-4008-4c2d-9fba-1793158eb747\");\n",
       "    if (el != null) {\n",
       "      el.textContent = \"BokehJS is loading...\";\n",
       "    }\n",
       "    if (root.Bokeh !== undefined) {\n",
       "      if (el != null) {\n",
       "        el.textContent = \"BokehJS \" + root.Bokeh.version + \" successfully loaded.\";\n",
       "      }\n",
       "    } else if (Date.now() < root._bokeh_timeout) {\n",
       "      setTimeout(display_loaded, 100)\n",
       "    }\n",
       "  }\n",
       "\n",
       "\n",
       "  function run_callbacks() {\n",
       "    try {\n",
       "      root._bokeh_onload_callbacks.forEach(function(callback) { callback() });\n",
       "    }\n",
       "    finally {\n",
       "      delete root._bokeh_onload_callbacks\n",
       "    }\n",
       "    console.info(\"Bokeh: all callbacks have finished\");\n",
       "  }\n",
       "\n",
       "  function load_libs(js_urls, callback) {\n",
       "    root._bokeh_onload_callbacks.push(callback);\n",
       "    if (root._bokeh_is_loading > 0) {\n",
       "      console.log(\"Bokeh: BokehJS is being loaded, scheduling callback at\", now());\n",
       "      return null;\n",
       "    }\n",
       "    if (js_urls == null || js_urls.length === 0) {\n",
       "      run_callbacks();\n",
       "      return null;\n",
       "    }\n",
       "    console.log(\"Bokeh: BokehJS not loaded, scheduling load and callback at\", now());\n",
       "    root._bokeh_is_loading = js_urls.length;\n",
       "    for (var i = 0; i < js_urls.length; i++) {\n",
       "      var url = js_urls[i];\n",
       "      var s = document.createElement('script');\n",
       "      s.src = url;\n",
       "      s.async = false;\n",
       "      s.onreadystatechange = s.onload = function() {\n",
       "        root._bokeh_is_loading--;\n",
       "        if (root._bokeh_is_loading === 0) {\n",
       "          console.log(\"Bokeh: all BokehJS libraries loaded\");\n",
       "          run_callbacks()\n",
       "        }\n",
       "      };\n",
       "      s.onerror = function() {\n",
       "        console.warn(\"failed to load library \" + url);\n",
       "      };\n",
       "      console.log(\"Bokeh: injecting script tag for BokehJS library: \", url);\n",
       "      document.getElementsByTagName(\"head\")[0].appendChild(s);\n",
       "    }\n",
       "  };var element = document.getElementById(\"c067126c-4008-4c2d-9fba-1793158eb747\");\n",
       "  if (element == null) {\n",
       "    console.log(\"Bokeh: ERROR: autoload.js configured with elementid 'c067126c-4008-4c2d-9fba-1793158eb747' but no matching script tag was found. \")\n",
       "    return false;\n",
       "  }\n",
       "\n",
       "  var js_urls = [\"https://cdn.pydata.org/bokeh/release/bokeh-0.12.14.min.js\", \"https://cdn.pydata.org/bokeh/release/bokeh-widgets-0.12.14.min.js\", \"https://cdn.pydata.org/bokeh/release/bokeh-tables-0.12.14.min.js\", \"https://cdn.pydata.org/bokeh/release/bokeh-gl-0.12.14.min.js\"];\n",
       "\n",
       "  var inline_js = [\n",
       "    function(Bokeh) {\n",
       "      Bokeh.set_log_level(\"info\");\n",
       "    },\n",
       "    \n",
       "    function(Bokeh) {\n",
       "      \n",
       "    },\n",
       "    function(Bokeh) {\n",
       "      console.log(\"Bokeh: injecting CSS: https://cdn.pydata.org/bokeh/release/bokeh-0.12.14.min.css\");\n",
       "      Bokeh.embed.inject_css(\"https://cdn.pydata.org/bokeh/release/bokeh-0.12.14.min.css\");\n",
       "      console.log(\"Bokeh: injecting CSS: https://cdn.pydata.org/bokeh/release/bokeh-widgets-0.12.14.min.css\");\n",
       "      Bokeh.embed.inject_css(\"https://cdn.pydata.org/bokeh/release/bokeh-widgets-0.12.14.min.css\");\n",
       "      console.log(\"Bokeh: injecting CSS: https://cdn.pydata.org/bokeh/release/bokeh-tables-0.12.14.min.css\");\n",
       "      Bokeh.embed.inject_css(\"https://cdn.pydata.org/bokeh/release/bokeh-tables-0.12.14.min.css\");\n",
       "    }\n",
       "  ];\n",
       "\n",
       "  function run_inline_js() {\n",
       "    \n",
       "    if ((root.Bokeh !== undefined) || (force === true)) {\n",
       "      for (var i = 0; i < inline_js.length; i++) {\n",
       "        inline_js[i].call(root, root.Bokeh);\n",
       "      }if (force === true) {\n",
       "        display_loaded();\n",
       "      }} else if (Date.now() < root._bokeh_timeout) {\n",
       "      setTimeout(run_inline_js, 100);\n",
       "    } else if (!root._bokeh_failed_load) {\n",
       "      console.log(\"Bokeh: BokehJS failed to load within specified timeout.\");\n",
       "      root._bokeh_failed_load = true;\n",
       "    } else if (force !== true) {\n",
       "      var cell = $(document.getElementById(\"c067126c-4008-4c2d-9fba-1793158eb747\")).parents('.cell').data().cell;\n",
       "      cell.output_area.append_execute_result(NB_LOAD_WARNING)\n",
       "    }\n",
       "\n",
       "  }\n",
       "\n",
       "  if (root._bokeh_is_loading === 0) {\n",
       "    console.log(\"Bokeh: BokehJS loaded, going straight to plotting\");\n",
       "    run_inline_js();\n",
       "  } else {\n",
       "    load_libs(js_urls, function() {\n",
       "      console.log(\"Bokeh: BokehJS plotting callback run at\", now());\n",
       "      run_inline_js();\n",
       "    });\n",
       "  }\n",
       "}(window));"
      ],
      "application/vnd.bokehjs_load.v0+json": "\n(function(root) {\n  function now() {\n    return new Date();\n  }\n\n  var force = true;\n\n  if (typeof (root._bokeh_onload_callbacks) === \"undefined\" || force === true) {\n    root._bokeh_onload_callbacks = [];\n    root._bokeh_is_loading = undefined;\n  }\n\n  \n\n  \n  if (typeof (root._bokeh_timeout) === \"undefined\" || force === true) {\n    root._bokeh_timeout = Date.now() + 5000;\n    root._bokeh_failed_load = false;\n  }\n\n  var NB_LOAD_WARNING = {'data': {'text/html':\n     \"<div style='background-color: #fdd'>\\n\"+\n     \"<p>\\n\"+\n     \"BokehJS does not appear to have successfully loaded. If loading BokehJS from CDN, this \\n\"+\n     \"may be due to a slow or bad network connection. Possible fixes:\\n\"+\n     \"</p>\\n\"+\n     \"<ul>\\n\"+\n     \"<li>re-rerun `output_notebook()` to attempt to load from CDN again, or</li>\\n\"+\n     \"<li>use INLINE resources instead, as so:</li>\\n\"+\n     \"</ul>\\n\"+\n     \"<code>\\n\"+\n     \"from bokeh.resources import INLINE\\n\"+\n     \"output_notebook(resources=INLINE)\\n\"+\n     \"</code>\\n\"+\n     \"</div>\"}};\n\n  function display_loaded() {\n    var el = document.getElementById(\"c067126c-4008-4c2d-9fba-1793158eb747\");\n    if (el != null) {\n      el.textContent = \"BokehJS is loading...\";\n    }\n    if (root.Bokeh !== undefined) {\n      if (el != null) {\n        el.textContent = \"BokehJS \" + root.Bokeh.version + \" successfully loaded.\";\n      }\n    } else if (Date.now() < root._bokeh_timeout) {\n      setTimeout(display_loaded, 100)\n    }\n  }\n\n\n  function run_callbacks() {\n    try {\n      root._bokeh_onload_callbacks.forEach(function(callback) { callback() });\n    }\n    finally {\n      delete root._bokeh_onload_callbacks\n    }\n    console.info(\"Bokeh: all callbacks have finished\");\n  }\n\n  function load_libs(js_urls, callback) {\n    root._bokeh_onload_callbacks.push(callback);\n    if (root._bokeh_is_loading > 0) {\n      console.log(\"Bokeh: BokehJS is being loaded, scheduling callback at\", now());\n      return null;\n    }\n    if (js_urls == null || js_urls.length === 0) {\n      run_callbacks();\n      return null;\n    }\n    console.log(\"Bokeh: BokehJS not loaded, scheduling load and callback at\", now());\n    root._bokeh_is_loading = js_urls.length;\n    for (var i = 0; i < js_urls.length; i++) {\n      var url = js_urls[i];\n      var s = document.createElement('script');\n      s.src = url;\n      s.async = false;\n      s.onreadystatechange = s.onload = function() {\n        root._bokeh_is_loading--;\n        if (root._bokeh_is_loading === 0) {\n          console.log(\"Bokeh: all BokehJS libraries loaded\");\n          run_callbacks()\n        }\n      };\n      s.onerror = function() {\n        console.warn(\"failed to load library \" + url);\n      };\n      console.log(\"Bokeh: injecting script tag for BokehJS library: \", url);\n      document.getElementsByTagName(\"head\")[0].appendChild(s);\n    }\n  };var element = document.getElementById(\"c067126c-4008-4c2d-9fba-1793158eb747\");\n  if (element == null) {\n    console.log(\"Bokeh: ERROR: autoload.js configured with elementid 'c067126c-4008-4c2d-9fba-1793158eb747' but no matching script tag was found. \")\n    return false;\n  }\n\n  var js_urls = [\"https://cdn.pydata.org/bokeh/release/bokeh-0.12.14.min.js\", \"https://cdn.pydata.org/bokeh/release/bokeh-widgets-0.12.14.min.js\", \"https://cdn.pydata.org/bokeh/release/bokeh-tables-0.12.14.min.js\", \"https://cdn.pydata.org/bokeh/release/bokeh-gl-0.12.14.min.js\"];\n\n  var inline_js = [\n    function(Bokeh) {\n      Bokeh.set_log_level(\"info\");\n    },\n    \n    function(Bokeh) {\n      \n    },\n    function(Bokeh) {\n      console.log(\"Bokeh: injecting CSS: https://cdn.pydata.org/bokeh/release/bokeh-0.12.14.min.css\");\n      Bokeh.embed.inject_css(\"https://cdn.pydata.org/bokeh/release/bokeh-0.12.14.min.css\");\n      console.log(\"Bokeh: injecting CSS: https://cdn.pydata.org/bokeh/release/bokeh-widgets-0.12.14.min.css\");\n      Bokeh.embed.inject_css(\"https://cdn.pydata.org/bokeh/release/bokeh-widgets-0.12.14.min.css\");\n      console.log(\"Bokeh: injecting CSS: https://cdn.pydata.org/bokeh/release/bokeh-tables-0.12.14.min.css\");\n      Bokeh.embed.inject_css(\"https://cdn.pydata.org/bokeh/release/bokeh-tables-0.12.14.min.css\");\n    }\n  ];\n\n  function run_inline_js() {\n    \n    if ((root.Bokeh !== undefined) || (force === true)) {\n      for (var i = 0; i < inline_js.length; i++) {\n        inline_js[i].call(root, root.Bokeh);\n      }if (force === true) {\n        display_loaded();\n      }} else if (Date.now() < root._bokeh_timeout) {\n      setTimeout(run_inline_js, 100);\n    } else if (!root._bokeh_failed_load) {\n      console.log(\"Bokeh: BokehJS failed to load within specified timeout.\");\n      root._bokeh_failed_load = true;\n    } else if (force !== true) {\n      var cell = $(document.getElementById(\"c067126c-4008-4c2d-9fba-1793158eb747\")).parents('.cell').data().cell;\n      cell.output_area.append_execute_result(NB_LOAD_WARNING)\n    }\n\n  }\n\n  if (root._bokeh_is_loading === 0) {\n    console.log(\"Bokeh: BokehJS loaded, going straight to plotting\");\n    run_inline_js();\n  } else {\n    load_libs(js_urls, function() {\n      console.log(\"Bokeh: BokehJS plotting callback run at\", now());\n      run_inline_js();\n    });\n  }\n}(window));"
     },
     "metadata": {},
     "output_type": "display_data"
    }
   ],
   "source": [
    "import lsst.sims.maf.metricBundles as mb\n",
    "import lsst.sims.maf.plots as plots\n",
    "import lsst.sims.maf.runComparison as rc"
   ]
  },
  {
   "cell_type": "markdown",
   "metadata": {},
   "source": [
    "# NVisits"
   ]
  },
  {
   "cell_type": "code",
   "execution_count": 3,
   "metadata": {},
   "outputs": [],
   "source": [
    "colors = {'baseline2018a':'b','colossus_2646': 'r'}\n",
    "runlist = list(colors.keys())"
   ]
  },
  {
   "cell_type": "code",
   "execution_count": 4,
   "metadata": {},
   "outputs": [],
   "source": [
    "comp = rc.RunComparison(baseDir='.',runlist=runlist)"
   ]
  },
  {
   "cell_type": "code",
   "execution_count": 5,
   "metadata": {},
   "outputs": [],
   "source": [
    "srd_dict = comp.buildMetricDict(subdir='srd')"
   ]
  },
  {
   "cell_type": "code",
   "execution_count": 6,
   "metadata": {},
   "outputs": [],
   "source": [
    "all_dict = comp.buildMetricDict(subdir='all')"
   ]
  },
  {
   "cell_type": "code",
   "execution_count": 7,
   "metadata": {},
   "outputs": [],
   "source": [
    "cadence_dict = comp.buildMetricDict(subdir='cadence')"
   ]
  },
  {
   "cell_type": "code",
   "execution_count": 8,
   "metadata": {},
   "outputs": [],
   "source": [
    "with warnings.catch_warnings():\n",
    "    warnings.simplefilter('ignore')\n",
    "    comp.addSummaryStats(srd_dict)"
   ]
  },
  {
   "cell_type": "code",
   "execution_count": 9,
   "metadata": {},
   "outputs": [],
   "source": [
    "with warnings.catch_warnings():\n",
    "    warnings.simplefilter('ignore')\n",
    "    comp.addSummaryStats(all_dict)"
   ]
  },
  {
   "cell_type": "code",
   "execution_count": 10,
   "metadata": {},
   "outputs": [],
   "source": [
    "with warnings.catch_warnings():\n",
    "    warnings.simplefilter('ignore')\n",
    "    comp.addSummaryStats(cadence_dict)"
   ]
  },
  {
   "cell_type": "markdown",
   "metadata": {},
   "source": [
    "# fO summary statisitics"
   ]
  },
  {
   "cell_type": "code",
   "execution_count": 11,
   "metadata": {},
   "outputs": [
    {
     "data": {
      "text/html": [
       "<div>\n",
       "<style>\n",
       "    .dataframe thead tr:only-child th {\n",
       "        text-align: right;\n",
       "    }\n",
       "\n",
       "    .dataframe thead th {\n",
       "        text-align: left;\n",
       "    }\n",
       "\n",
       "    .dataframe tbody tr th {\n",
       "        vertical-align: top;\n",
       "    }\n",
       "</style>\n",
       "<table border=\"1\" class=\"dataframe\">\n",
       "  <thead>\n",
       "    <tr style=\"text-align: right;\">\n",
       "      <th></th>\n",
       "      <th>baseline2018a</th>\n",
       "      <th>colossus_2646</th>\n",
       "    </tr>\n",
       "  </thead>\n",
       "  <tbody>\n",
       "    <tr>\n",
       "      <th>fOArea: Nvisits (#) fO All visits HealpixSlicer</th>\n",
       "      <td>836.000000</td>\n",
       "      <td>709.000000</td>\n",
       "    </tr>\n",
       "    <tr>\n",
       "      <th>fOArea: Nvisits/benchmark fO All visits HealpixSlicer</th>\n",
       "      <td>1.013333</td>\n",
       "      <td>0.859394</td>\n",
       "    </tr>\n",
       "    <tr>\n",
       "      <th>fONv: Area (sqdeg) fO All visits HealpixSlicer</th>\n",
       "      <td>18056.563483</td>\n",
       "      <td>17738.471192</td>\n",
       "    </tr>\n",
       "    <tr>\n",
       "      <th>fONv: Area/benchmark fO All visits HealpixSlicer</th>\n",
       "      <td>1.003142</td>\n",
       "      <td>0.985471</td>\n",
       "    </tr>\n",
       "    <tr>\n",
       "      <th>fOArea: Nvisits (#) fO WFD HealpixSlicer</th>\n",
       "      <td>835.000000</td>\n",
       "      <td>432.000000</td>\n",
       "    </tr>\n",
       "    <tr>\n",
       "      <th>fOArea: Nvisits/benchmark fO WFD HealpixSlicer</th>\n",
       "      <td>1.012121</td>\n",
       "      <td>0.523636</td>\n",
       "    </tr>\n",
       "    <tr>\n",
       "      <th>fONv: Area (sqdeg) fO WFD HealpixSlicer</th>\n",
       "      <td>18040.616904</td>\n",
       "      <td>17260.913107</td>\n",
       "    </tr>\n",
       "    <tr>\n",
       "      <th>fONv: Area/benchmark fO WFD HealpixSlicer</th>\n",
       "      <td>1.002256</td>\n",
       "      <td>0.958940</td>\n",
       "    </tr>\n",
       "  </tbody>\n",
       "</table>\n",
       "</div>"
      ],
      "text/plain": [
       "                                                    baseline2018a  \\\n",
       "fOArea: Nvisits (#) fO All visits HealpixSlicer        836.000000   \n",
       "fOArea: Nvisits/benchmark fO All visits Healpix...       1.013333   \n",
       "fONv: Area (sqdeg) fO All visits HealpixSlicer       18056.563483   \n",
       "fONv: Area/benchmark fO All visits HealpixSlicer         1.003142   \n",
       "fOArea: Nvisits (#) fO WFD HealpixSlicer               835.000000   \n",
       "fOArea: Nvisits/benchmark fO WFD HealpixSlicer           1.012121   \n",
       "fONv: Area (sqdeg) fO WFD HealpixSlicer              18040.616904   \n",
       "fONv: Area/benchmark fO WFD HealpixSlicer                1.002256   \n",
       "\n",
       "                                                    colossus_2646  \n",
       "fOArea: Nvisits (#) fO All visits HealpixSlicer        709.000000  \n",
       "fOArea: Nvisits/benchmark fO All visits Healpix...       0.859394  \n",
       "fONv: Area (sqdeg) fO All visits HealpixSlicer       17738.471192  \n",
       "fONv: Area/benchmark fO All visits HealpixSlicer         0.985471  \n",
       "fOArea: Nvisits (#) fO WFD HealpixSlicer               432.000000  \n",
       "fOArea: Nvisits/benchmark fO WFD HealpixSlicer           0.523636  \n",
       "fONv: Area (sqdeg) fO WFD HealpixSlicer              17260.913107  \n",
       "fONv: Area/benchmark fO WFD HealpixSlicer                0.958940  "
      ]
     },
     "execution_count": 11,
     "metadata": {},
     "output_type": "execute_result"
    }
   ],
   "source": [
    "comp.summaryStats.T.filter(like='fO',axis=0)"
   ]
  },
  {
   "cell_type": "markdown",
   "metadata": {},
   "source": [
    "# Parallax"
   ]
  },
  {
   "cell_type": "code",
   "execution_count": 12,
   "metadata": {},
   "outputs": [
    {
     "data": {
      "text/html": [
       "<div>\n",
       "<style>\n",
       "    .dataframe thead tr:only-child th {\n",
       "        text-align: right;\n",
       "    }\n",
       "\n",
       "    .dataframe thead th {\n",
       "        text-align: left;\n",
       "    }\n",
       "\n",
       "    .dataframe tbody tr th {\n",
       "        vertical-align: top;\n",
       "    }\n",
       "</style>\n",
       "<table border=\"1\" class=\"dataframe\">\n",
       "  <thead>\n",
       "    <tr style=\"text-align: right;\">\n",
       "      <th></th>\n",
       "      <th>baseline2018a</th>\n",
       "      <th>colossus_2646</th>\n",
       "    </tr>\n",
       "  </thead>\n",
       "  <tbody>\n",
       "    <tr>\n",
       "      <th>Median Parallax Error @ 24.0 All visits HealpixSlicer</th>\n",
       "      <td>7.211897</td>\n",
       "      <td>7.410334</td>\n",
       "    </tr>\n",
       "    <tr>\n",
       "      <th>Median Parallax Coverage @ 24.0 All visits HealpixSlicer</th>\n",
       "      <td>0.540989</td>\n",
       "      <td>0.575772</td>\n",
       "    </tr>\n",
       "    <tr>\n",
       "      <th>Median Parallax-DCR degeneracy @ 24.0 All visits HealpixSlicer</th>\n",
       "      <td>0.213722</td>\n",
       "      <td>0.277398</td>\n",
       "    </tr>\n",
       "    <tr>\n",
       "      <th>Median Parallax Error @ 24.0 WFD HealpixSlicer</th>\n",
       "      <td>6.320265</td>\n",
       "      <td>6.680559</td>\n",
       "    </tr>\n",
       "    <tr>\n",
       "      <th>Median Parallax Coverage @ 24.0 WFD HealpixSlicer</th>\n",
       "      <td>0.543600</td>\n",
       "      <td>0.598591</td>\n",
       "    </tr>\n",
       "    <tr>\n",
       "      <th>Median Parallax-DCR degeneracy @ 24.0 WFD HealpixSlicer</th>\n",
       "      <td>0.165450</td>\n",
       "      <td>0.298203</td>\n",
       "    </tr>\n",
       "    <tr>\n",
       "      <th>Median Parallax Error @ 22.4 All visits HealpixSlicer</th>\n",
       "      <td>1.848632</td>\n",
       "      <td>1.879195</td>\n",
       "    </tr>\n",
       "    <tr>\n",
       "      <th>Median Parallax Coverage @ 22.4 All visits HealpixSlicer</th>\n",
       "      <td>0.547516</td>\n",
       "      <td>0.584661</td>\n",
       "    </tr>\n",
       "    <tr>\n",
       "      <th>Median Parallax-DCR degeneracy @ 22.4 All visits HealpixSlicer</th>\n",
       "      <td>0.219225</td>\n",
       "      <td>0.285838</td>\n",
       "    </tr>\n",
       "    <tr>\n",
       "      <th>Median Parallax Error @ 22.4 WFD HealpixSlicer</th>\n",
       "      <td>1.637874</td>\n",
       "      <td>1.711611</td>\n",
       "    </tr>\n",
       "    <tr>\n",
       "      <th>Median Parallax Coverage @ 22.4 WFD HealpixSlicer</th>\n",
       "      <td>0.549357</td>\n",
       "      <td>0.606619</td>\n",
       "    </tr>\n",
       "    <tr>\n",
       "      <th>Median Parallax-DCR degeneracy @ 22.4 WFD HealpixSlicer</th>\n",
       "      <td>0.172049</td>\n",
       "      <td>0.309513</td>\n",
       "    </tr>\n",
       "  </tbody>\n",
       "</table>\n",
       "</div>"
      ],
      "text/plain": [
       "                                                    baseline2018a  \\\n",
       "Median Parallax Error @ 24.0 All visits Healpix...       7.211897   \n",
       "Median Parallax Coverage @ 24.0 All visits Heal...       0.540989   \n",
       "Median Parallax-DCR degeneracy @ 24.0 All visit...       0.213722   \n",
       "Median Parallax Error @ 24.0 WFD HealpixSlicer           6.320265   \n",
       "Median Parallax Coverage @ 24.0 WFD HealpixSlicer        0.543600   \n",
       "Median Parallax-DCR degeneracy @ 24.0 WFD Healp...       0.165450   \n",
       "Median Parallax Error @ 22.4 All visits Healpix...       1.848632   \n",
       "Median Parallax Coverage @ 22.4 All visits Heal...       0.547516   \n",
       "Median Parallax-DCR degeneracy @ 22.4 All visit...       0.219225   \n",
       "Median Parallax Error @ 22.4 WFD HealpixSlicer           1.637874   \n",
       "Median Parallax Coverage @ 22.4 WFD HealpixSlicer        0.549357   \n",
       "Median Parallax-DCR degeneracy @ 22.4 WFD Healp...       0.172049   \n",
       "\n",
       "                                                    colossus_2646  \n",
       "Median Parallax Error @ 24.0 All visits Healpix...       7.410334  \n",
       "Median Parallax Coverage @ 24.0 All visits Heal...       0.575772  \n",
       "Median Parallax-DCR degeneracy @ 24.0 All visit...       0.277398  \n",
       "Median Parallax Error @ 24.0 WFD HealpixSlicer           6.680559  \n",
       "Median Parallax Coverage @ 24.0 WFD HealpixSlicer        0.598591  \n",
       "Median Parallax-DCR degeneracy @ 24.0 WFD Healp...       0.298203  \n",
       "Median Parallax Error @ 22.4 All visits Healpix...       1.879195  \n",
       "Median Parallax Coverage @ 22.4 All visits Heal...       0.584661  \n",
       "Median Parallax-DCR degeneracy @ 22.4 All visit...       0.285838  \n",
       "Median Parallax Error @ 22.4 WFD HealpixSlicer           1.711611  \n",
       "Median Parallax Coverage @ 22.4 WFD HealpixSlicer        0.606619  \n",
       "Median Parallax-DCR degeneracy @ 22.4 WFD Healp...       0.309513  "
      ]
     },
     "execution_count": 12,
     "metadata": {},
     "output_type": "execute_result"
    }
   ],
   "source": [
    "comp.summaryStats.T.filter(like='Median Parallax',axis=0).dropna()"
   ]
  },
  {
   "cell_type": "markdown",
   "metadata": {},
   "source": [
    "# Proper motion"
   ]
  },
  {
   "cell_type": "code",
   "execution_count": 13,
   "metadata": {},
   "outputs": [
    {
     "data": {
      "text/html": [
       "<div>\n",
       "<style>\n",
       "    .dataframe thead tr:only-child th {\n",
       "        text-align: right;\n",
       "    }\n",
       "\n",
       "    .dataframe thead th {\n",
       "        text-align: left;\n",
       "    }\n",
       "\n",
       "    .dataframe tbody tr th {\n",
       "        vertical-align: top;\n",
       "    }\n",
       "</style>\n",
       "<table border=\"1\" class=\"dataframe\">\n",
       "  <thead>\n",
       "    <tr style=\"text-align: right;\">\n",
       "      <th></th>\n",
       "      <th>baseline2018a</th>\n",
       "      <th>colossus_2646</th>\n",
       "    </tr>\n",
       "  </thead>\n",
       "  <tbody>\n",
       "    <tr>\n",
       "      <th>Median Proper Motion Error @ 24.0 All visits HealpixSlicer</th>\n",
       "      <td>1.850232</td>\n",
       "      <td>1.840257</td>\n",
       "    </tr>\n",
       "    <tr>\n",
       "      <th>Median Proper Motion Error @ 24.0 WFD HealpixSlicer</th>\n",
       "      <td>1.712652</td>\n",
       "      <td>1.730705</td>\n",
       "    </tr>\n",
       "    <tr>\n",
       "      <th>Median Proper Motion Error @ 20.5 All visits HealpixSlicer</th>\n",
       "      <td>0.173208</td>\n",
       "      <td>0.169556</td>\n",
       "    </tr>\n",
       "    <tr>\n",
       "      <th>Median Proper Motion Error @ 20.5 WFD HealpixSlicer</th>\n",
       "      <td>0.169005</td>\n",
       "      <td>0.166064</td>\n",
       "    </tr>\n",
       "  </tbody>\n",
       "</table>\n",
       "</div>"
      ],
      "text/plain": [
       "                                                    baseline2018a  \\\n",
       "Median Proper Motion Error @ 24.0 All visits He...       1.850232   \n",
       "Median Proper Motion Error @ 24.0 WFD HealpixSl...       1.712652   \n",
       "Median Proper Motion Error @ 20.5 All visits He...       0.173208   \n",
       "Median Proper Motion Error @ 20.5 WFD HealpixSl...       0.169005   \n",
       "\n",
       "                                                    colossus_2646  \n",
       "Median Proper Motion Error @ 24.0 All visits He...       1.840257  \n",
       "Median Proper Motion Error @ 24.0 WFD HealpixSl...       1.730705  \n",
       "Median Proper Motion Error @ 20.5 All visits He...       0.169556  \n",
       "Median Proper Motion Error @ 20.5 WFD HealpixSl...       0.166064  "
      ]
     },
     "execution_count": 13,
     "metadata": {},
     "output_type": "execute_result"
    }
   ],
   "source": [
    "comp.summaryStats.T.filter(like='Median Proper Motion',axis=0).dropna()"
   ]
  },
  {
   "cell_type": "markdown",
   "metadata": {},
   "source": [
    "# Rapid revisit"
   ]
  },
  {
   "cell_type": "code",
   "execution_count": 14,
   "metadata": {},
   "outputs": [
    {
     "data": {
      "text/html": [
       "<div>\n",
       "<style>\n",
       "    .dataframe thead tr:only-child th {\n",
       "        text-align: right;\n",
       "    }\n",
       "\n",
       "    .dataframe thead th {\n",
       "        text-align: left;\n",
       "    }\n",
       "\n",
       "    .dataframe tbody tr th {\n",
       "        vertical-align: top;\n",
       "    }\n",
       "</style>\n",
       "<table border=\"1\" class=\"dataframe\">\n",
       "  <thead>\n",
       "    <tr style=\"text-align: right;\">\n",
       "      <th></th>\n",
       "      <th>baseline2018a</th>\n",
       "      <th>colossus_2646</th>\n",
       "    </tr>\n",
       "  </thead>\n",
       "  <tbody>\n",
       "    <tr>\n",
       "      <th>Area (sq deg) Number of revisits faster than 30.0 minutes All visits HealpixSlicer</th>\n",
       "      <td>5834.756474</td>\n",
       "      <td>69.747328</td>\n",
       "    </tr>\n",
       "    <tr>\n",
       "      <th>Area (sq deg) Number of revisits faster than 30.0 minutes WFD HealpixSlicer</th>\n",
       "      <td>8340.794119</td>\n",
       "      <td>0.000000</td>\n",
       "    </tr>\n",
       "  </tbody>\n",
       "</table>\n",
       "</div>"
      ],
      "text/plain": [
       "                                                    baseline2018a  \\\n",
       "Area (sq deg) Number of revisits faster than 30...    5834.756474   \n",
       "Area (sq deg) Number of revisits faster than 30...    8340.794119   \n",
       "\n",
       "                                                    colossus_2646  \n",
       "Area (sq deg) Number of revisits faster than 30...      69.747328  \n",
       "Area (sq deg) Number of revisits faster than 30...       0.000000  "
      ]
     },
     "execution_count": 14,
     "metadata": {},
     "output_type": "execute_result"
    }
   ],
   "source": [
    "comp.summaryStats.T.filter(like='Area (sq deg) Number of revisits faster',axis=0).dropna()"
   ]
  },
  {
   "cell_type": "markdown",
   "metadata": {},
   "source": [
    "# Fraction in pairs"
   ]
  },
  {
   "cell_type": "code",
   "execution_count": 15,
   "metadata": {},
   "outputs": [
    {
     "data": {
      "text/html": [
       "<div>\n",
       "<style>\n",
       "    .dataframe thead tr:only-child th {\n",
       "        text-align: right;\n",
       "    }\n",
       "\n",
       "    .dataframe thead th {\n",
       "        text-align: left;\n",
       "    }\n",
       "\n",
       "    .dataframe tbody tr th {\n",
       "        vertical-align: top;\n",
       "    }\n",
       "</style>\n",
       "<table border=\"1\" class=\"dataframe\">\n",
       "  <thead>\n",
       "    <tr style=\"text-align: right;\">\n",
       "      <th></th>\n",
       "      <th>baseline2018a</th>\n",
       "      <th>colossus_2646</th>\n",
       "    </tr>\n",
       "  </thead>\n",
       "  <tbody>\n",
       "    <tr>\n",
       "      <th>Median Fraction of visits in pairs (15-60 min) gri HealpixSlicer</th>\n",
       "      <td>0.894621</td>\n",
       "      <td>0.716654</td>\n",
       "    </tr>\n",
       "    <tr>\n",
       "      <th>Median Fraction of visits in pairs (15-60 min) gri WFD+NES HealpixSlicer</th>\n",
       "      <td>0.901468</td>\n",
       "      <td>0.760396</td>\n",
       "    </tr>\n",
       "  </tbody>\n",
       "</table>\n",
       "</div>"
      ],
      "text/plain": [
       "                                                    baseline2018a  \\\n",
       "Median Fraction of visits in pairs (15-60 min) ...       0.894621   \n",
       "Median Fraction of visits in pairs (15-60 min) ...       0.901468   \n",
       "\n",
       "                                                    colossus_2646  \n",
       "Median Fraction of visits in pairs (15-60 min) ...       0.716654  \n",
       "Median Fraction of visits in pairs (15-60 min) ...       0.760396  "
      ]
     },
     "execution_count": 15,
     "metadata": {},
     "output_type": "execute_result"
    }
   ],
   "source": [
    "comp.summaryStats.T.filter(like='Median Fraction of visits in pairs',axis=0).dropna()"
   ]
  },
  {
   "cell_type": "markdown",
   "metadata": {},
   "source": [
    "# Fraction of Total visits per proposal"
   ]
  },
  {
   "cell_type": "code",
   "execution_count": 16,
   "metadata": {},
   "outputs": [
    {
     "data": {
      "text/html": [
       "<div>\n",
       "<style>\n",
       "    .dataframe thead tr:only-child th {\n",
       "        text-align: right;\n",
       "    }\n",
       "\n",
       "    .dataframe thead th {\n",
       "        text-align: left;\n",
       "    }\n",
       "\n",
       "    .dataframe tbody tr th {\n",
       "        vertical-align: top;\n",
       "    }\n",
       "</style>\n",
       "<table border=\"1\" class=\"dataframe\">\n",
       "  <thead>\n",
       "    <tr style=\"text-align: right;\">\n",
       "      <th></th>\n",
       "      <th>baseline2018a</th>\n",
       "      <th>colossus_2646</th>\n",
       "    </tr>\n",
       "  </thead>\n",
       "  <tbody>\n",
       "    <tr>\n",
       "      <th>Fraction of total Nvisits All props</th>\n",
       "      <td>1.000000</td>\n",
       "      <td>1.000000</td>\n",
       "    </tr>\n",
       "    <tr>\n",
       "      <th>Fraction of total Nvisits SouthCelestialPole</th>\n",
       "      <td>0.019821</td>\n",
       "      <td>0.029253</td>\n",
       "    </tr>\n",
       "    <tr>\n",
       "      <th>Fraction of total Nvisits WideFastDeep</th>\n",
       "      <td>0.863711</td>\n",
       "      <td>0.815402</td>\n",
       "    </tr>\n",
       "    <tr>\n",
       "      <th>Fraction of total Nvisits DeepDrillingCosmology1</th>\n",
       "      <td>0.045935</td>\n",
       "      <td>0.068046</td>\n",
       "    </tr>\n",
       "    <tr>\n",
       "      <th>Fraction of total Nvisits GalacticPlane</th>\n",
       "      <td>0.016270</td>\n",
       "      <td>0.019115</td>\n",
       "    </tr>\n",
       "    <tr>\n",
       "      <th>Fraction of total Nvisits NorthEclipticSpur</th>\n",
       "      <td>0.054521</td>\n",
       "      <td>0.068185</td>\n",
       "    </tr>\n",
       "  </tbody>\n",
       "</table>\n",
       "</div>"
      ],
      "text/plain": [
       "                                                  baseline2018a  colossus_2646\n",
       "Fraction of total Nvisits All props                    1.000000       1.000000\n",
       "Fraction of total Nvisits SouthCelestialPole           0.019821       0.029253\n",
       "Fraction of total Nvisits WideFastDeep                 0.863711       0.815402\n",
       "Fraction of total Nvisits DeepDrillingCosmology1       0.045935       0.068046\n",
       "Fraction of total Nvisits GalacticPlane                0.016270       0.019115\n",
       "Fraction of total Nvisits NorthEclipticSpur            0.054521       0.068185"
      ]
     },
     "execution_count": 16,
     "metadata": {},
     "output_type": "execute_result"
    }
   ],
   "source": [
    "comp.summaryStats.T.filter(like='Fraction of total',axis=0).dropna()"
   ]
  },
  {
   "cell_type": "markdown",
   "metadata": {},
   "source": [
    "# Median Nvsits per filter WFD "
   ]
  },
  {
   "cell_type": "code",
   "execution_count": 17,
   "metadata": {},
   "outputs": [
    {
     "data": {
      "text/html": [
       "<div>\n",
       "<style>\n",
       "    .dataframe thead tr:only-child th {\n",
       "        text-align: right;\n",
       "    }\n",
       "\n",
       "    .dataframe thead th {\n",
       "        text-align: left;\n",
       "    }\n",
       "\n",
       "    .dataframe tbody tr th {\n",
       "        vertical-align: top;\n",
       "    }\n",
       "</style>\n",
       "<table border=\"1\" class=\"dataframe\">\n",
       "  <thead>\n",
       "    <tr style=\"text-align: right;\">\n",
       "      <th></th>\n",
       "      <th>baseline2018a</th>\n",
       "      <th>colossus_2646</th>\n",
       "    </tr>\n",
       "  </thead>\n",
       "  <tbody>\n",
       "    <tr>\n",
       "      <th>Median NVisits WFD u band HealpixSlicer</th>\n",
       "      <td>62.0</td>\n",
       "      <td>67.0</td>\n",
       "    </tr>\n",
       "    <tr>\n",
       "      <th>Median NVisits WFD i band HealpixSlicer</th>\n",
       "      <td>199.0</td>\n",
       "      <td>204.0</td>\n",
       "    </tr>\n",
       "    <tr>\n",
       "      <th>Median NVisits WFD r band HealpixSlicer</th>\n",
       "      <td>200.0</td>\n",
       "      <td>204.0</td>\n",
       "    </tr>\n",
       "    <tr>\n",
       "      <th>Median NVisits WFD g band HealpixSlicer</th>\n",
       "      <td>87.0</td>\n",
       "      <td>92.0</td>\n",
       "    </tr>\n",
       "    <tr>\n",
       "      <th>Median NVisits WFD all bands HealpixSlicer</th>\n",
       "      <td>912.0</td>\n",
       "      <td>946.0</td>\n",
       "    </tr>\n",
       "    <tr>\n",
       "      <th>Median NVisits WFD z band HealpixSlicer</th>\n",
       "      <td>183.0</td>\n",
       "      <td>186.0</td>\n",
       "    </tr>\n",
       "    <tr>\n",
       "      <th>Median NVisits WFD y band HealpixSlicer</th>\n",
       "      <td>182.0</td>\n",
       "      <td>192.0</td>\n",
       "    </tr>\n",
       "  </tbody>\n",
       "</table>\n",
       "</div>"
      ],
      "text/plain": [
       "                                            baseline2018a  colossus_2646\n",
       "Median NVisits WFD u band HealpixSlicer              62.0           67.0\n",
       "Median NVisits WFD i band HealpixSlicer             199.0          204.0\n",
       "Median NVisits WFD r band HealpixSlicer             200.0          204.0\n",
       "Median NVisits WFD g band HealpixSlicer              87.0           92.0\n",
       "Median NVisits WFD all bands HealpixSlicer          912.0          946.0\n",
       "Median NVisits WFD z band HealpixSlicer             183.0          186.0\n",
       "Median NVisits WFD y band HealpixSlicer             182.0          192.0"
      ]
     },
     "execution_count": 17,
     "metadata": {},
     "output_type": "execute_result"
    }
   ],
   "source": [
    "comp.summaryStats.T.filter(like='Median NVisits WFD',axis=0).dropna()"
   ]
  },
  {
   "cell_type": "markdown",
   "metadata": {},
   "source": [
    "# Median CoaddedM5 per filter WFD "
   ]
  },
  {
   "cell_type": "code",
   "execution_count": 18,
   "metadata": {},
   "outputs": [
    {
     "data": {
      "text/html": [
       "<div>\n",
       "<style>\n",
       "    .dataframe thead tr:only-child th {\n",
       "        text-align: right;\n",
       "    }\n",
       "\n",
       "    .dataframe thead th {\n",
       "        text-align: left;\n",
       "    }\n",
       "\n",
       "    .dataframe tbody tr th {\n",
       "        vertical-align: top;\n",
       "    }\n",
       "</style>\n",
       "<table border=\"1\" class=\"dataframe\">\n",
       "  <thead>\n",
       "    <tr style=\"text-align: right;\">\n",
       "      <th></th>\n",
       "      <th>baseline2018a</th>\n",
       "      <th>colossus_2646</th>\n",
       "    </tr>\n",
       "  </thead>\n",
       "  <tbody>\n",
       "    <tr>\n",
       "      <th>Median CoaddM5 WFD u band HealpixSlicer</th>\n",
       "      <td>25.615042</td>\n",
       "      <td>25.644178</td>\n",
       "    </tr>\n",
       "    <tr>\n",
       "      <th>Median CoaddM5 WFD i band HealpixSlicer</th>\n",
       "      <td>26.613175</td>\n",
       "      <td>26.526201</td>\n",
       "    </tr>\n",
       "    <tr>\n",
       "      <th>Median CoaddM5 WFD r band HealpixSlicer</th>\n",
       "      <td>27.187683</td>\n",
       "      <td>27.129955</td>\n",
       "    </tr>\n",
       "    <tr>\n",
       "      <th>Median CoaddM5 WFD g band HealpixSlicer</th>\n",
       "      <td>27.110218</td>\n",
       "      <td>27.149279</td>\n",
       "    </tr>\n",
       "    <tr>\n",
       "      <th>Median CoaddM5 WFD z band HealpixSlicer</th>\n",
       "      <td>25.706837</td>\n",
       "      <td>25.808272</td>\n",
       "    </tr>\n",
       "    <tr>\n",
       "      <th>Median CoaddM5 WFD y band HealpixSlicer</th>\n",
       "      <td>24.892254</td>\n",
       "      <td>24.815838</td>\n",
       "    </tr>\n",
       "  </tbody>\n",
       "</table>\n",
       "</div>"
      ],
      "text/plain": [
       "                                         baseline2018a  colossus_2646\n",
       "Median CoaddM5 WFD u band HealpixSlicer      25.615042      25.644178\n",
       "Median CoaddM5 WFD i band HealpixSlicer      26.613175      26.526201\n",
       "Median CoaddM5 WFD r band HealpixSlicer      27.187683      27.129955\n",
       "Median CoaddM5 WFD g band HealpixSlicer      27.110218      27.149279\n",
       "Median CoaddM5 WFD z band HealpixSlicer      25.706837      25.808272\n",
       "Median CoaddM5 WFD y band HealpixSlicer      24.892254      24.815838"
      ]
     },
     "execution_count": 18,
     "metadata": {},
     "output_type": "execute_result"
    }
   ],
   "source": [
    "comp.summaryStats.T.filter(like='Median CoaddM5 WFD',axis=0).dropna()"
   ]
  },
  {
   "cell_type": "markdown",
   "metadata": {},
   "source": [
    "# Median seeingEff per filter WFD "
   ]
  },
  {
   "cell_type": "code",
   "execution_count": 19,
   "metadata": {},
   "outputs": [
    {
     "data": {
      "text/html": [
       "<div>\n",
       "<style>\n",
       "    .dataframe thead tr:only-child th {\n",
       "        text-align: right;\n",
       "    }\n",
       "\n",
       "    .dataframe thead th {\n",
       "        text-align: left;\n",
       "    }\n",
       "\n",
       "    .dataframe tbody tr th {\n",
       "        vertical-align: top;\n",
       "    }\n",
       "</style>\n",
       "<table border=\"1\" class=\"dataframe\">\n",
       "  <thead>\n",
       "    <tr style=\"text-align: right;\">\n",
       "      <th></th>\n",
       "      <th>baseline2018a</th>\n",
       "      <th>colossus_2646</th>\n",
       "    </tr>\n",
       "  </thead>\n",
       "  <tbody>\n",
       "    <tr>\n",
       "      <th>Median Median seeingEff WFD u band HealpixSlicer</th>\n",
       "      <td>0.955978</td>\n",
       "      <td>0.948973</td>\n",
       "    </tr>\n",
       "    <tr>\n",
       "      <th>Median Median seeingEff WFD i band HealpixSlicer</th>\n",
       "      <td>0.823022</td>\n",
       "      <td>0.844026</td>\n",
       "    </tr>\n",
       "    <tr>\n",
       "      <th>Median Median seeingEff WFD r band HealpixSlicer</th>\n",
       "      <td>0.849100</td>\n",
       "      <td>0.863123</td>\n",
       "    </tr>\n",
       "    <tr>\n",
       "      <th>Median Median seeingEff WFD g band HealpixSlicer</th>\n",
       "      <td>0.905754</td>\n",
       "      <td>0.895287</td>\n",
       "    </tr>\n",
       "    <tr>\n",
       "      <th>Median Median seeingEff WFD all bands HealpixSlicer</th>\n",
       "      <td>0.836284</td>\n",
       "      <td>0.855962</td>\n",
       "    </tr>\n",
       "    <tr>\n",
       "      <th>Median Median seeingEff WFD z band HealpixSlicer</th>\n",
       "      <td>0.815861</td>\n",
       "      <td>0.829391</td>\n",
       "    </tr>\n",
       "    <tr>\n",
       "      <th>Median Median seeingEff WFD y band HealpixSlicer</th>\n",
       "      <td>0.805565</td>\n",
       "      <td>0.837281</td>\n",
       "    </tr>\n",
       "  </tbody>\n",
       "</table>\n",
       "</div>"
      ],
      "text/plain": [
       "                                                    baseline2018a  \\\n",
       "Median Median seeingEff WFD u band HealpixSlicer         0.955978   \n",
       "Median Median seeingEff WFD i band HealpixSlicer         0.823022   \n",
       "Median Median seeingEff WFD r band HealpixSlicer         0.849100   \n",
       "Median Median seeingEff WFD g band HealpixSlicer         0.905754   \n",
       "Median Median seeingEff WFD all bands HealpixSl...       0.836284   \n",
       "Median Median seeingEff WFD z band HealpixSlicer         0.815861   \n",
       "Median Median seeingEff WFD y band HealpixSlicer         0.805565   \n",
       "\n",
       "                                                    colossus_2646  \n",
       "Median Median seeingEff WFD u band HealpixSlicer         0.948973  \n",
       "Median Median seeingEff WFD i band HealpixSlicer         0.844026  \n",
       "Median Median seeingEff WFD r band HealpixSlicer         0.863123  \n",
       "Median Median seeingEff WFD g band HealpixSlicer         0.895287  \n",
       "Median Median seeingEff WFD all bands HealpixSl...       0.855962  \n",
       "Median Median seeingEff WFD z band HealpixSlicer         0.829391  \n",
       "Median Median seeingEff WFD y band HealpixSlicer         0.837281  "
      ]
     },
     "execution_count": 19,
     "metadata": {},
     "output_type": "execute_result"
    }
   ],
   "source": [
    "comp.summaryStats.T.filter(like='Median Median seeingEff WFD',axis=0).dropna()"
   ]
  },
  {
   "cell_type": "markdown",
   "metadata": {},
   "source": [
    "# Slew statistics"
   ]
  },
  {
   "cell_type": "code",
   "execution_count": 20,
   "metadata": {},
   "outputs": [
    {
     "data": {
      "text/html": [
       "<div>\n",
       "<style>\n",
       "    .dataframe thead tr:only-child th {\n",
       "        text-align: right;\n",
       "    }\n",
       "\n",
       "    .dataframe thead th {\n",
       "        text-align: left;\n",
       "    }\n",
       "\n",
       "    .dataframe tbody tr th {\n",
       "        vertical-align: top;\n",
       "    }\n",
       "</style>\n",
       "<table border=\"1\" class=\"dataframe\">\n",
       "  <thead>\n",
       "    <tr style=\"text-align: right;\">\n",
       "      <th></th>\n",
       "      <th>baseline2018a</th>\n",
       "      <th>colossus_2646</th>\n",
       "    </tr>\n",
       "  </thead>\n",
       "  <tbody>\n",
       "    <tr>\n",
       "      <th>Mean slewTime All visits</th>\n",
       "      <td>7.919872</td>\n",
       "      <td>11.638055</td>\n",
       "    </tr>\n",
       "    <tr>\n",
       "      <th>Median slewTime All visits</th>\n",
       "      <td>5.174937</td>\n",
       "      <td>5.412055</td>\n",
       "    </tr>\n",
       "    <tr>\n",
       "      <th>Min slewTime All visits</th>\n",
       "      <td>2.000000</td>\n",
       "      <td>2.000000</td>\n",
       "    </tr>\n",
       "    <tr>\n",
       "      <th>Max slewTime All visits</th>\n",
       "      <td>142.999591</td>\n",
       "      <td>140.000000</td>\n",
       "    </tr>\n",
       "  </tbody>\n",
       "</table>\n",
       "</div>"
      ],
      "text/plain": [
       "                            baseline2018a  colossus_2646\n",
       "Mean slewTime All visits         7.919872      11.638055\n",
       "Median slewTime All visits       5.174937       5.412055\n",
       "Min slewTime All visits          2.000000       2.000000\n",
       "Max slewTime All visits        142.999591     140.000000"
      ]
     },
     "execution_count": 20,
     "metadata": {},
     "output_type": "execute_result"
    }
   ],
   "source": [
    "comp.summaryStats.T.filter(like='slew',axis=0).dropna()"
   ]
  },
  {
   "cell_type": "markdown",
   "metadata": {},
   "source": [
    "# Filter change statistics"
   ]
  },
  {
   "cell_type": "code",
   "execution_count": 21,
   "metadata": {},
   "outputs": [
    {
     "data": {
      "text/html": [
       "<div>\n",
       "<style>\n",
       "    .dataframe thead tr:only-child th {\n",
       "        text-align: right;\n",
       "    }\n",
       "\n",
       "    .dataframe thead th {\n",
       "        text-align: left;\n",
       "    }\n",
       "\n",
       "    .dataframe tbody tr th {\n",
       "        vertical-align: top;\n",
       "    }\n",
       "</style>\n",
       "<table border=\"1\" class=\"dataframe\">\n",
       "  <thead>\n",
       "    <tr style=\"text-align: right;\">\n",
       "      <th></th>\n",
       "      <th>baseline2018a</th>\n",
       "      <th>colossus_2646</th>\n",
       "    </tr>\n",
       "  </thead>\n",
       "  <tbody>\n",
       "    <tr>\n",
       "      <th>Filter Changes Whole Survey</th>\n",
       "      <td>10644.000000</td>\n",
       "      <td>21508.000000</td>\n",
       "    </tr>\n",
       "    <tr>\n",
       "      <th>Filter Changes Per Night OneDSlicer</th>\n",
       "      <td>3025.000000</td>\n",
       "      <td>3025.000000</td>\n",
       "    </tr>\n",
       "    <tr>\n",
       "      <th>Max Filter Changes Per Night OneDSlicer</th>\n",
       "      <td>23.000000</td>\n",
       "      <td>26.000000</td>\n",
       "    </tr>\n",
       "    <tr>\n",
       "      <th>Mean Filter Changes Per Night OneDSlicer</th>\n",
       "      <td>3.134876</td>\n",
       "      <td>6.128264</td>\n",
       "    </tr>\n",
       "    <tr>\n",
       "      <th>Median Filter Changes Per Night OneDSlicer</th>\n",
       "      <td>2.000000</td>\n",
       "      <td>5.000000</td>\n",
       "    </tr>\n",
       "    <tr>\n",
       "      <th>Min Filter Changes Per Night OneDSlicer</th>\n",
       "      <td>0.000000</td>\n",
       "      <td>0.000000</td>\n",
       "    </tr>\n",
       "    <tr>\n",
       "      <th>N(+3Sigma) Filter Changes Per Night OneDSlicer</th>\n",
       "      <td>59.000000</td>\n",
       "      <td>80.000000</td>\n",
       "    </tr>\n",
       "    <tr>\n",
       "      <th>N(-3Sigma) Filter Changes Per Night OneDSlicer</th>\n",
       "      <td>0.000000</td>\n",
       "      <td>0.000000</td>\n",
       "    </tr>\n",
       "    <tr>\n",
       "      <th>Rms Filter Changes Per Night OneDSlicer</th>\n",
       "      <td>3.471012</td>\n",
       "      <td>4.873074</td>\n",
       "    </tr>\n",
       "  </tbody>\n",
       "</table>\n",
       "</div>"
      ],
      "text/plain": [
       "                                                baseline2018a  colossus_2646\n",
       "Filter Changes Whole Survey                      10644.000000   21508.000000\n",
       "Filter Changes Per Night OneDSlicer               3025.000000    3025.000000\n",
       "Max Filter Changes Per Night OneDSlicer             23.000000      26.000000\n",
       "Mean Filter Changes Per Night OneDSlicer             3.134876       6.128264\n",
       "Median Filter Changes Per Night OneDSlicer           2.000000       5.000000\n",
       "Min Filter Changes Per Night OneDSlicer              0.000000       0.000000\n",
       "N(+3Sigma) Filter Changes Per Night OneDSlicer      59.000000      80.000000\n",
       "N(-3Sigma) Filter Changes Per Night OneDSlicer       0.000000       0.000000\n",
       "Rms Filter Changes Per Night OneDSlicer              3.471012       4.873074"
      ]
     },
     "execution_count": 21,
     "metadata": {},
     "output_type": "execute_result"
    }
   ],
   "source": [
    "comp.summaryStats.T.filter(like='Filter',axis=0).dropna()"
   ]
  },
  {
   "cell_type": "markdown",
   "metadata": {},
   "source": [
    "# Normalized effective time "
   ]
  },
  {
   "cell_type": "code",
   "execution_count": 22,
   "metadata": {},
   "outputs": [
    {
     "data": {
      "text/html": [
       "<div>\n",
       "<style>\n",
       "    .dataframe thead tr:only-child th {\n",
       "        text-align: right;\n",
       "    }\n",
       "\n",
       "    .dataframe thead th {\n",
       "        text-align: left;\n",
       "    }\n",
       "\n",
       "    .dataframe tbody tr th {\n",
       "        vertical-align: top;\n",
       "    }\n",
       "</style>\n",
       "<table border=\"1\" class=\"dataframe\">\n",
       "  <thead>\n",
       "    <tr style=\"text-align: right;\">\n",
       "      <th></th>\n",
       "      <th>baseline2018a</th>\n",
       "      <th>colossus_2646</th>\n",
       "    </tr>\n",
       "  </thead>\n",
       "  <tbody>\n",
       "    <tr>\n",
       "      <th>Normalized Teff all bands</th>\n",
       "      <td>0.558197</td>\n",
       "      <td>0.531212</td>\n",
       "    </tr>\n",
       "    <tr>\n",
       "      <th>Max Normalized Teff all bands HealpixSlicer</th>\n",
       "      <td>0.735635</td>\n",
       "      <td>0.959036</td>\n",
       "    </tr>\n",
       "    <tr>\n",
       "      <th>Mean Normalized Teff all bands HealpixSlicer</th>\n",
       "      <td>0.502386</td>\n",
       "      <td>0.487929</td>\n",
       "    </tr>\n",
       "    <tr>\n",
       "      <th>Median Normalized Teff all bands HealpixSlicer</th>\n",
       "      <td>0.545690</td>\n",
       "      <td>0.516255</td>\n",
       "    </tr>\n",
       "    <tr>\n",
       "      <th>Min Normalized Teff all bands HealpixSlicer</th>\n",
       "      <td>0.073872</td>\n",
       "      <td>0.058435</td>\n",
       "    </tr>\n",
       "    <tr>\n",
       "      <th>N(+3Sigma) Normalized Teff all bands HealpixSlicer</th>\n",
       "      <td>0.000000</td>\n",
       "      <td>1.000000</td>\n",
       "    </tr>\n",
       "    <tr>\n",
       "      <th>N(-3Sigma) Normalized Teff all bands HealpixSlicer</th>\n",
       "      <td>0.000000</td>\n",
       "      <td>15.000000</td>\n",
       "    </tr>\n",
       "    <tr>\n",
       "      <th>Normalized Teff all bands HealpixSlicer</th>\n",
       "      <td>31116.000000</td>\n",
       "      <td>31939.000000</td>\n",
       "    </tr>\n",
       "    <tr>\n",
       "      <th>Rms Normalized Teff all bands HealpixSlicer</th>\n",
       "      <td>0.146207</td>\n",
       "      <td>0.133986</td>\n",
       "    </tr>\n",
       "  </tbody>\n",
       "</table>\n",
       "</div>"
      ],
      "text/plain": [
       "                                                    baseline2018a  \\\n",
       "Normalized Teff all bands                                0.558197   \n",
       "Max Normalized Teff all bands HealpixSlicer              0.735635   \n",
       "Mean Normalized Teff all bands HealpixSlicer             0.502386   \n",
       "Median Normalized Teff all bands HealpixSlicer           0.545690   \n",
       "Min Normalized Teff all bands HealpixSlicer              0.073872   \n",
       "N(+3Sigma) Normalized Teff all bands HealpixSlicer       0.000000   \n",
       "N(-3Sigma) Normalized Teff all bands HealpixSlicer       0.000000   \n",
       "Normalized Teff all bands HealpixSlicer              31116.000000   \n",
       "Rms Normalized Teff all bands HealpixSlicer              0.146207   \n",
       "\n",
       "                                                    colossus_2646  \n",
       "Normalized Teff all bands                                0.531212  \n",
       "Max Normalized Teff all bands HealpixSlicer              0.959036  \n",
       "Mean Normalized Teff all bands HealpixSlicer             0.487929  \n",
       "Median Normalized Teff all bands HealpixSlicer           0.516255  \n",
       "Min Normalized Teff all bands HealpixSlicer              0.058435  \n",
       "N(+3Sigma) Normalized Teff all bands HealpixSlicer       1.000000  \n",
       "N(-3Sigma) Normalized Teff all bands HealpixSlicer      15.000000  \n",
       "Normalized Teff all bands HealpixSlicer              31939.000000  \n",
       "Rms Normalized Teff all bands HealpixSlicer              0.133986  "
      ]
     },
     "execution_count": 22,
     "metadata": {},
     "output_type": "execute_result"
    }
   ],
   "source": [
    "comp.summaryStats.T.filter(like='Normalized Teff all bands',axis=0).dropna()"
   ]
  },
  {
   "cell_type": "markdown",
   "metadata": {},
   "source": [
    "# Open shutter fraction"
   ]
  },
  {
   "cell_type": "code",
   "execution_count": null,
   "metadata": {},
   "outputs": [
    {
     "data": {
      "text/html": [
       "<div>\n",
       "<style>\n",
       "    .dataframe thead tr:only-child th {\n",
       "        text-align: right;\n",
       "    }\n",
       "\n",
       "    .dataframe thead th {\n",
       "        text-align: left;\n",
       "    }\n",
       "\n",
       "    .dataframe tbody tr th {\n",
       "        vertical-align: top;\n",
       "    }\n",
       "</style>\n",
       "<table border=\"1\" class=\"dataframe\">\n",
       "  <thead>\n",
       "    <tr style=\"text-align: right;\">\n",
       "      <th></th>\n",
       "      <th>baseline2018a</th>\n",
       "      <th>colossus_2646</th>\n",
       "    </tr>\n",
       "  </thead>\n",
       "  <tbody>\n",
       "    <tr>\n",
       "      <th>OpenShutterFraction All visits</th>\n",
       "      <td>0.715651</td>\n",
       "      <td>0.657346</td>\n",
       "    </tr>\n",
       "    <tr>\n",
       "      <th>Max OpenShutterFraction Per night OneDSlicer</th>\n",
       "      <td>0.765440</td>\n",
       "      <td>0.734834</td>\n",
       "    </tr>\n",
       "    <tr>\n",
       "      <th>Mean OpenShutterFraction Per night OneDSlicer</th>\n",
       "      <td>0.715703</td>\n",
       "      <td>0.657944</td>\n",
       "    </tr>\n",
       "    <tr>\n",
       "      <th>Median OpenShutterFraction Per night OneDSlicer</th>\n",
       "      <td>0.718118</td>\n",
       "      <td>0.658031</td>\n",
       "    </tr>\n",
       "    <tr>\n",
       "      <th>Min OpenShutterFraction Per night OneDSlicer</th>\n",
       "      <td>0.601392</td>\n",
       "      <td>0.583334</td>\n",
       "    </tr>\n",
       "    <tr>\n",
       "      <th>N(+3Sigma) OpenShutterFraction Per night OneDSlicer</th>\n",
       "      <td>0.000000</td>\n",
       "      <td>0.000000</td>\n",
       "    </tr>\n",
       "    <tr>\n",
       "      <th>N(-3Sigma) OpenShutterFraction Per night OneDSlicer</th>\n",
       "      <td>22.000000</td>\n",
       "      <td>0.000000</td>\n",
       "    </tr>\n",
       "    <tr>\n",
       "      <th>OpenShutterFraction Per night OneDSlicer</th>\n",
       "      <td>3025.000000</td>\n",
       "      <td>3025.000000</td>\n",
       "    </tr>\n",
       "    <tr>\n",
       "      <th>Rms OpenShutterFraction Per night OneDSlicer</th>\n",
       "      <td>0.021834</td>\n",
       "      <td>0.025913</td>\n",
       "    </tr>\n",
       "  </tbody>\n",
       "</table>\n",
       "</div>"
      ],
      "text/plain": [
       "                                                    baseline2018a  \\\n",
       "OpenShutterFraction All visits                           0.715651   \n",
       "Max OpenShutterFraction Per night OneDSlicer             0.765440   \n",
       "Mean OpenShutterFraction Per night OneDSlicer            0.715703   \n",
       "Median OpenShutterFraction Per night OneDSlicer          0.718118   \n",
       "Min OpenShutterFraction Per night OneDSlicer             0.601392   \n",
       "N(+3Sigma) OpenShutterFraction Per night OneDSl...       0.000000   \n",
       "N(-3Sigma) OpenShutterFraction Per night OneDSl...      22.000000   \n",
       "OpenShutterFraction Per night OneDSlicer              3025.000000   \n",
       "Rms OpenShutterFraction Per night OneDSlicer             0.021834   \n",
       "\n",
       "                                                    colossus_2646  \n",
       "OpenShutterFraction All visits                           0.657346  \n",
       "Max OpenShutterFraction Per night OneDSlicer             0.734834  \n",
       "Mean OpenShutterFraction Per night OneDSlicer            0.657944  \n",
       "Median OpenShutterFraction Per night OneDSlicer          0.658031  \n",
       "Min OpenShutterFraction Per night OneDSlicer             0.583334  \n",
       "N(+3Sigma) OpenShutterFraction Per night OneDSl...       0.000000  \n",
       "N(-3Sigma) OpenShutterFraction Per night OneDSl...       0.000000  \n",
       "OpenShutterFraction Per night OneDSlicer              3025.000000  \n",
       "Rms OpenShutterFraction Per night OneDSlicer             0.025913  "
      ]
     },
     "execution_count": 23,
     "metadata": {},
     "output_type": "execute_result"
    }
   ],
   "source": [
    "comp.summaryStats.T.filter(like='Open',axis=0).dropna()"
   ]
  },
  {
   "cell_type": "markdown",
   "metadata": {},
   "source": [
    "# HealpixSkyMaps\n",
    " - Nvisits all bands\n",
    " - Nvisits alt/az all bands\n",
    " - Median airmass all bands\n",
    " - Max airmass all bands\n",
    " - CoaddM5 r band"
   ]
  },
  {
   "cell_type": "code",
   "execution_count": null,
   "metadata": {},
   "outputs": [
    {
     "name": "stdout",
     "output_type": "stream",
     "text": [
      "Healpix slicer using NSIDE=64, approximate resolution 54.967783 arcminutes\n",
      "Healpix slicer using NSIDE=64, approximate resolution 54.967783 arcminutes\n",
      "Healpix slicer using NSIDE=64, approximate resolution 54.967783 arcminutes\n",
      "Healpix slicer using NSIDE=64, approximate resolution 54.967783 arcminutes\n",
      "Healpix slicer using NSIDE=64, approximate resolution 54.967783 arcminutes\n",
      "Healpix slicer using NSIDE=64, approximate resolution 54.967783 arcminutes\n",
      "Healpix slicer using NSIDE=64, approximate resolution 54.967783 arcminutes\n",
      "Healpix slicer using NSIDE=64, approximate resolution 54.967783 arcminutes\n",
      "Healpix slicer using NSIDE=64, approximate resolution 54.967783 arcminutes\n",
      "Healpix slicer using NSIDE=64, approximate resolution 54.967783 arcminutes\n"
     ]
    },
    {
     "name": "stderr",
     "output_type": "stream",
     "text": [
      "/home/docmaf/stack/python/miniconda3-4.3.21/lib/python3.6/site-packages/matplotlib/axes/_axes.py:545: UserWarning: No labelled objects found. Use label='...' kwarg on individual plots.\n",
      "  warnings.warn(\"No labelled objects found. \"\n",
      "/home/docmaf/stack/python/miniconda3-4.3.21/lib/python3.6/site-packages/matplotlib/axes/_axes.py:545: UserWarning: No labelled objects found. Use label='...' kwarg on individual plots.\n",
      "  warnings.warn(\"No labelled objects found. \"\n",
      "/home/docmaf/stack/python/miniconda3-4.3.21/lib/python3.6/site-packages/matplotlib/axes/_axes.py:545: UserWarning: No labelled objects found. Use label='...' kwarg on individual plots.\n",
      "  warnings.warn(\"No labelled objects found. \"\n",
      "/home/docmaf/stack/python/miniconda3-4.3.21/lib/python3.6/site-packages/matplotlib/axes/_axes.py:545: UserWarning: No labelled objects found. Use label='...' kwarg on individual plots.\n",
      "  warnings.warn(\"No labelled objects found. \"\n"
     ]
    }
   ],
   "source": [
    "n_visits_all, mname = comp.readMetricData(all_dict['NVisits all bands HealpixSlicer']['metricName'],\n",
    "                                          all_dict['NVisits all bands HealpixSlicer']['metricMetadata'],\n",
    "                                          all_dict['NVisits all bands HealpixSlicer']['slicerName'])\n",
    "\n",
    "n_visits_all_alt_az, mname = comp.readMetricData(all_dict['Nvisits as function of Alt/Az all bands HealpixSlicer']['metricName'],\n",
    "                                                 all_dict['Nvisits as function of Alt/Az all bands HealpixSlicer']['metricMetadata'],\n",
    "                                                 all_dict['Nvisits as function of Alt/Az all bands HealpixSlicer']['slicerName'])\n",
    "\n",
    "med_airmass_all, mname = comp.readMetricData(all_dict['Median airmass all bands HealpixSlicer']['metricName'],\n",
    "                                             all_dict['Median airmass all bands HealpixSlicer']['metricMetadata'],\n",
    "                                             all_dict['Median airmass all bands HealpixSlicer']['slicerName'])\n",
    "\n",
    "max_airmass_all, mname = comp.readMetricData(all_dict['Max airmass all bands HealpixSlicer']['metricName'],\n",
    "                                             all_dict['Max airmass all bands HealpixSlicer']['metricMetadata'],\n",
    "                                             all_dict['Max airmass all bands HealpixSlicer']['slicerName'])\n",
    "\n",
    "coaddM5_r, mname = comp.readMetricData(all_dict['CoaddM5 r band HealpixSlicer']['metricName'],\n",
    "                                       all_dict['CoaddM5 r band HealpixSlicer']['metricMetadata'],\n",
    "                                       all_dict['CoaddM5 r band HealpixSlicer']['slicerName'])\n",
    "\n",
    "with warnings.catch_warnings():\n",
    "    comp.plotMetricData(n_visits_all,\n",
    "                        plotFunc=plots.HealpixSkyMap(),\n",
    "                        userPlotDict={'figsize':(12,4),'colorMin':700,'colorMax':1200, 'xMin':60,'xMax':100},\n",
    "                        outDir='.',savefig=True)\n",
    "    comp.plotMetricData(n_visits_all_alt_az,\n",
    "                        plotFunc=plots.HealpixSkyMap(),\n",
    "                        userPlotDict={'figsize':(12,4),'xMin':60,'xMax':100,'rot': (90, 90, 90), 'flip': 'geo'},\n",
    "                        outDir='.',savefig=True)\n",
    "    comp.plotMetricData(med_airmass_all,\n",
    "                        plotFunc=plots.HealpixSkyMap(),\n",
    "                        paramTitles=False,\n",
    "                        userPlotDict={'figsize':(12,4),'colorMin':1.02,'colorMax':1.31},outDir='.',savefig=True)\n",
    "    comp.plotMetricData(max_airmass_all,\n",
    "                        plotFunc=plots.HealpixSkyMap(),\n",
    "                        paramTitles=False,\n",
    "                        userPlotDict={'figsize':(12,4),'colorMin':1.1,'colorMax':2.5},outDir='.',savefig=True)\n",
    "    comp.plotMetricData(coaddM5_r,\n",
    "                        plotFunc=plots.HealpixSkyMap(),\n",
    "                        paramTitles=False,\n",
    "                        userPlotDict={'figsize':(12,4),'colorMin':-0.62,'colorMax':0.62,'zp':27.6},outDir='.',savefig=True)"
   ]
  },
  {
   "cell_type": "markdown",
   "metadata": {},
   "source": [
    "# CoaddM5 r band HealpixHistrogram"
   ]
  },
  {
   "cell_type": "code",
   "execution_count": null,
   "metadata": {},
   "outputs": [],
   "source": [
    "comp.plotMetricData(coaddM5_r,\n",
    "                    plotFunc=plots.HealpixHistogram(),\n",
    "                    paramTitles=False,\n",
    "                    userPlotDict={'figsize':(8,8),'xMin':-0.65,'xMax':0.65,'zp':27.6},outDir='.',savefig=True)"
   ]
  },
  {
   "cell_type": "markdown",
   "metadata": {},
   "source": [
    "# HA distributions (OneDSlicer)"
   ]
  },
  {
   "cell_type": "code",
   "execution_count": null,
   "metadata": {},
   "outputs": [],
   "source": [
    "ha_hist_all, mname = comp.readMetricData(all_dict['HA Histogram all bands OneDSlicer']['metricName'],\n",
    "                                         all_dict['HA Histogram all bands OneDSlicer']['metricMetadata'],\n",
    "                                         all_dict['HA Histogram all bands OneDSlicer']['slicerName'])"
   ]
  },
  {
   "cell_type": "code",
   "execution_count": null,
   "metadata": {},
   "outputs": [],
   "source": [
    "ha_hist_y, mname = comp.readMetricData(all_dict['HA Histogram y band OneDSlicer']['metricName'],\n",
    "                                       all_dict['HA Histogram y band OneDSlicer']['metricMetadata'],\n",
    "                                       all_dict['HA Histogram y band OneDSlicer']['slicerName'])"
   ]
  },
  {
   "cell_type": "code",
   "execution_count": null,
   "metadata": {},
   "outputs": [],
   "source": [
    "HABundle = []\n",
    "HABundle_y = []\n",
    "for r in runlist:\n",
    "    ha_hist_all[r].setPlotDict({'color':colors[r],'label':r})\n",
    "    ha_hist_y[r].setPlotDict({'color':colors[r],'label':r})\n",
    "    HABundle.append(ha_hist_all[r])\n",
    "    HABundle_y.append(ha_hist_y[r])"
   ]
  },
  {
   "cell_type": "code",
   "execution_count": null,
   "metadata": {
    "scrolled": false
   },
   "outputs": [],
   "source": [
    "ha_ph = plots.PlotHandler()\n",
    "ha_ph.setMetricBundles(HABundle)"
   ]
  },
  {
   "cell_type": "code",
   "execution_count": null,
   "metadata": {},
   "outputs": [],
   "source": [
    "ha_ph_y = plots.PlotHandler()\n",
    "ha_ph_y.setMetricBundles(HABundle_y)"
   ]
  },
  {
   "cell_type": "markdown",
   "metadata": {},
   "source": [
    "# HA distribution all bands"
   ]
  },
  {
   "cell_type": "code",
   "execution_count": null,
   "metadata": {},
   "outputs": [],
   "source": [
    "ha_ph.plot(plots.OneDBinnedData(),\n",
    "           plotDicts={'figsize':(8,8),'xMin':-5.0,'xMax':5.0,'yMax':160000,'bins':np.arange(-6.0,6.1,0.1),'linewidth':3})"
   ]
  },
  {
   "cell_type": "markdown",
   "metadata": {},
   "source": [
    "# HA distribution y band"
   ]
  },
  {
   "cell_type": "code",
   "execution_count": null,
   "metadata": {},
   "outputs": [],
   "source": [
    "ha_ph_y.plot(plots.OneDBinnedData(),\n",
    "           plotDicts={'figsize':(8,8),'xMin':-5.0,'xMax':5.0,'yMax':22000,'bins':np.arange(-6.0,6.1,0.1),'linewidth':3})"
   ]
  },
  {
   "cell_type": "markdown",
   "metadata": {},
   "source": [
    "# Slew time and distance distributions"
   ]
  },
  {
   "cell_type": "code",
   "execution_count": null,
   "metadata": {},
   "outputs": [],
   "source": [
    "slew_time_hist,mname = comp.readMetricData(metricName=all_dict['Slew Time Histogram All visits OneDSlicer']['metricName'],\n",
    "                                           metricMetadata=all_dict['Slew Time Histogram All visits OneDSlicer']['metricMetadata'],\n",
    "                                           slicerName=all_dict['Slew Time Histogram All visits OneDSlicer']['slicerName'])"
   ]
  },
  {
   "cell_type": "code",
   "execution_count": null,
   "metadata": {},
   "outputs": [],
   "source": [
    "slew_dist_hist,mname = comp.readMetricData(metricName=all_dict['Slew Distance Histogram All visits OneDSlicer']['metricName'],\n",
    "                                           metricMetadata=all_dict['Slew Distance Histogram All visits OneDSlicer']['metricMetadata'],\n",
    "                                           slicerName=all_dict['Slew Distance Histogram All visits OneDSlicer']['slicerName'])"
   ]
  },
  {
   "cell_type": "code",
   "execution_count": null,
   "metadata": {},
   "outputs": [],
   "source": [
    "slew_hist_bundle_list = []\n",
    "slew_dist_bundle_list = []"
   ]
  },
  {
   "cell_type": "code",
   "execution_count": null,
   "metadata": {},
   "outputs": [],
   "source": [
    "for r in runlist:\n",
    "    slew_time_hist[r].setPlotDict({'color':colors[r],'label':r})\n",
    "    slew_dist_hist[r].setPlotDict({'color':colors[r],'label':r})\n",
    "    slew_hist_bundle_list.append(slew_time_hist[r])\n",
    "    slew_dist_bundle_list.append(slew_dist_hist[r])"
   ]
  },
  {
   "cell_type": "code",
   "execution_count": null,
   "metadata": {},
   "outputs": [],
   "source": [
    "ph_slewhist = plots.PlotHandler()\n",
    "ph_slewdist = plots.PlotHandler()"
   ]
  },
  {
   "cell_type": "code",
   "execution_count": null,
   "metadata": {},
   "outputs": [],
   "source": [
    "ph_slewhist.setMetricBundles(slew_hist_bundle_list)\n",
    "ph_slewdist.setMetricBundles(slew_dist_bundle_list)"
   ]
  },
  {
   "cell_type": "code",
   "execution_count": null,
   "metadata": {},
   "outputs": [],
   "source": [
    "fig = ph_slewhist.plot(plots.OneDBinnedData(),\n",
    "                       plotDicts={'figsize':(8,8),'xMin':-10,'xMax':150,'linewidth':1,'bins':np.arange(0,155,5)})\n",
    "# plt.figure(fig)\n",
    "# plt.savefig('slewTime_hist_combo.pdf',dpi=600,bbox_inches='tight')"
   ]
  },
  {
   "cell_type": "code",
   "execution_count": null,
   "metadata": {},
   "outputs": [],
   "source": [
    "fig2 = ph_slewdist.plot(plots.OneDBinnedData(),\n",
    "                        plotDicts={'figsize':(8,8),'xMin':-10,'xMax':140,'linewidth':1,'bins':np.arange(0,155,1)})"
   ]
  },
  {
   "cell_type": "code",
   "execution_count": null,
   "metadata": {},
   "outputs": [],
   "source": [
    "comp.summaryStats.T.to_csv('fbs_vs_baseline.csv')"
   ]
  },
  {
   "cell_type": "code",
   "execution_count": null,
   "metadata": {},
   "outputs": [],
   "source": []
  }
 ],
 "metadata": {
  "kernelspec": {
   "display_name": "Python 3",
   "language": "python",
   "name": "python3"
  },
  "language_info": {
   "codemirror_mode": {
    "name": "ipython",
    "version": 3
   },
   "file_extension": ".py",
   "mimetype": "text/x-python",
   "name": "python",
   "nbconvert_exporter": "python",
   "pygments_lexer": "ipython3",
   "version": "3.6.2"
  }
 },
 "nbformat": 4,
 "nbformat_minor": 2
}
