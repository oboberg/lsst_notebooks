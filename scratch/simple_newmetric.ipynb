{
 "cells": [
  {
   "cell_type": "code",
   "execution_count": 1,
   "metadata": {},
   "outputs": [],
   "source": [
    "from __future__ import print_function\n",
    "import numpy as np \n",
    "import matplotlib.pyplot as plt\n",
    "%matplotlib inline\n",
    "import lsst.sims.maf.db as db\n",
    "import lsst.sims.maf.metrics as metrics\n",
    "import lsst.sims.maf.slicers as slicers\n",
    "import lsst.sims.maf.metricBundles as metricBundles"
   ]
  },
  {
   "cell_type": "code",
   "execution_count": 2,
   "metadata": {},
   "outputs": [],
   "source": [
    "# Import BaseMetric, or have it available to inherit from\n",
    "from lsst.sims.maf.metrics import BaseMetric"
   ]
  },
  {
   "cell_type": "code",
   "execution_count": 3,
   "metadata": {},
   "outputs": [],
   "source": [
    "# Define our class, inheriting from BaseMetric\n",
    "class MaxOverMaxMetric(BaseMetric):\n",
    "    \"\"\"\n",
    "    Calculate the ratio of the maximum of one \n",
    "    value and the maximum of another\n",
    "    \"\"\" \n",
    "    def __init__(self, colNumer, colDenom, **kwargs):\n",
    "        # Set the values we want to keep for our class.\n",
    "        \n",
    "        self.colNumer = colNumer\n",
    "        self.colDenom = colDenom\n",
    "        cols = [colNumer,colDenom]\n",
    "        super(MaxOverMaxMetric, self).__init__(col=cols, **kwargs)\n",
    "        \n",
    "    # Now write out \"run\" method, the part that does \n",
    "    # the metric calculation.\n",
    "    def run(self, dataSlice, slicePoint=None):\n",
    "        numerator = np.max(dataSlice[self.colNumer])\n",
    "        denominator = np.max(dataSlice[self.colDenom])\n",
    "        result = numerator/denominator\n",
    "        return result"
   ]
  },
  {
   "cell_type": "code",
   "execution_count": 4,
   "metadata": {},
   "outputs": [],
   "source": [
    "outDir ='simple_tutorial'\n",
    "dbFile = 'baseline2018a.db'\n",
    "opsimdb = db.OpsimDatabase(dbFile)\n",
    "resultsDb = db.ResultsDb(outDir=outDir)"
   ]
  },
  {
   "cell_type": "code",
   "execution_count": 5,
   "metadata": {},
   "outputs": [
    {
     "name": "stdout",
     "output_type": "stream",
     "text": [
      "{'night', 'fiveSigmaDepth', 'airmass'}\n"
     ]
    }
   ],
   "source": [
    "metric = MaxOverMaxMetric(colNumer='fiveSigmaDepth',colDenom='airmass')\n",
    "slicer = slicers.OneDSlicer(sliceColName='night',binsize=1)\n",
    "sql = 'night <= 7 and filter = \"z\"'\n",
    "bundle = metricBundles.MetricBundle(metric, slicer, sql)\n",
    "print(bundle.dbCols)"
   ]
  },
  {
   "cell_type": "code",
   "execution_count": 6,
   "metadata": {},
   "outputs": [
    {
     "name": "stdout",
     "output_type": "stream",
     "text": [
      "Querying database SummaryAllProps with constraint night <= 7 and filter = \"z\" for columns ['night', 'fiveSigmaDepth', 'airmass']\n",
      "Found 3483 visits\n",
      "Running:  [0]\n",
      "Completed metric generation.\n",
      "Running reduce methods.\n",
      "Running summary statistics.\n",
      "Completed.\n"
     ]
    }
   ],
   "source": [
    "bg = metricBundles.MetricBundleGroup({0: bundle}, opsimdb, outDir=outDir, resultsDb=resultsDb)\n",
    "bg.runAll()"
   ]
  },
  {
   "cell_type": "code",
   "execution_count": 7,
   "metadata": {},
   "outputs": [
    {
     "name": "stdout",
     "output_type": "stream",
     "text": [
      "Plotting figures with \"night <= 7 and filter = \"z\"\" constraint now.\n",
      "Plotting complete.\n"
     ]
    },
    {
     "data": {
      "image/png": "[encoded data removed]",
      "text/plain": [
       "<matplotlib.figure.Figure at 0x7fbb54638c18>"
      ]
     },
     "metadata": {},
     "output_type": "display_data"
    }
   ],
   "source": [
    "bg.plotAll(closefigs=False)"
   ]
  },
  {
   "cell_type": "code",
   "execution_count": null,
   "metadata": {},
   "outputs": [],
   "source": []
  }
 ],
 "metadata": {
  "kernelspec": {
   "display_name": "Python 3",
   "language": "python",
   "name": "python3"
  },
  "language_info": {
   "codemirror_mode": {
    "name": "ipython",
    "version": 3
   },
   "file_extension": ".py",
   "mimetype": "text/x-python",
   "name": "python",
   "nbconvert_exporter": "python",
   "pygments_lexer": "ipython3",
   "version": "3.6.2"
  }
 },
 "nbformat": 4,
 "nbformat_minor": 2
}
