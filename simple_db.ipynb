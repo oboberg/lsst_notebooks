{
 "cells": [
  {
   "cell_type": "code",
   "execution_count": 1,
   "metadata": {},
   "outputs": [],
   "source": [
    "from __future__ import print_function\n",
    "%matplotlib inline\n",
    "import numpy as np\n",
    "import matplotlib.pyplot as plt\n",
    "import healpy as hp\n",
    "\n",
    "import lsst.sims.maf.db as db\n",
    "import lsst.sims.maf.utils as utils\n",
    "import lsst.sims.maf.metrics as metrics\n",
    "import lsst.sims.maf.slicers as slicers\n",
    "import lsst.sims.maf.stackers as stackers\n",
    "import lsst.sims.maf.metricBundles as metricBundles"
   ]
  },
  {
   "cell_type": "code",
   "execution_count": 2,
   "metadata": {},
   "outputs": [],
   "source": [
    "import pandas as pd"
   ]
  },
  {
   "cell_type": "code",
   "execution_count": 3,
   "metadata": {},
   "outputs": [],
   "source": [
    "outDir ='simple_tutorial'\n",
    "dbFile = 'baseline2018a.db'\n",
    "opsimdb = db.OpsimDatabase(dbFile)\n",
    "resultsDb = db.ResultsDb(outDir=outDir)"
   ]
  },
  {
   "cell_type": "code",
   "execution_count": 4,
   "metadata": {},
   "outputs": [],
   "source": [
    "# The pass metric just passes data straight through.\n",
    "metric = metrics.PassMetric(cols=['filter', 'fieldRA','fieldDec', 'fiveSigmaDepth', 'observationStartMJD','night','airmass'])\n",
    "# use a unit slicer to grab all of the data\n",
    "slicer = slicers.UniSlicer()\n",
    "# only use the first 7 nights\n",
    "sql = 'night <= 7'\n",
    "bundle = metricBundles.MetricBundle(metric, slicer, sql)"
   ]
  },
  {
   "cell_type": "code",
   "execution_count": 5,
   "metadata": {},
   "outputs": [
    {
     "name": "stdout",
     "output_type": "stream",
     "text": [
      "Querying database SummaryAllProps with constraint night <= 7 for columns ['observationStartMJD', 'night', 'airmass', 'fieldRA', 'filter', 'fiveSigmaDepth', 'fieldDec']\n",
      "Found 5196 visits\n",
      "Running:  [0]\n",
      "Completed metric generation.\n",
      "Running reduce methods.\n",
      "Running summary statistics.\n",
      "Completed.\n"
     ]
    },
    {
     "name": "stderr",
     "output_type": "stream",
     "text": [
      "/home/docmaf/lsst_repos/sims_maf/python/lsst/sims/maf/db/resultsDb.py:290: UserWarning: Warning! Cannot save non-conforming summary statistic.\n",
      "  warnings.warn('Warning! Cannot save non-conforming summary statistic.')\n"
     ]
    }
   ],
   "source": [
    "bg = metricBundles.MetricBundleGroup({0: bundle}, opsimdb, outDir=outDir, resultsDb=resultsDb)\n",
    "bg.runAll()"
   ]
  },
  {
   "cell_type": "code",
   "execution_count": 6,
   "metadata": {},
   "outputs": [],
   "source": [
    "#Put the metric values, in this case just the first 7 nights, into a pandas dataframe."
   ]
  },
  {
   "cell_type": "code",
   "execution_count": 7,
   "metadata": {},
   "outputs": [],
   "source": [
    "data_df = pd.DataFrame(bundle.metricValues.data[0])"
   ]
  },
  {
   "cell_type": "code",
   "execution_count": 8,
   "metadata": {},
   "outputs": [
    {
     "data": {
      "text/html": [
       "<div>\n",
       "<style>\n",
       "    .dataframe thead tr:only-child th {\n",
       "        text-align: right;\n",
       "    }\n",
       "\n",
       "    .dataframe thead th {\n",
       "        text-align: left;\n",
       "    }\n",
       "\n",
       "    .dataframe tbody tr th {\n",
       "        vertical-align: top;\n",
       "    }\n",
       "</style>\n",
       "<table border=\"1\" class=\"dataframe\">\n",
       "  <thead>\n",
       "    <tr style=\"text-align: right;\">\n",
       "      <th></th>\n",
       "      <th>observationStartMJD</th>\n",
       "      <th>night</th>\n",
       "      <th>airmass</th>\n",
       "      <th>fieldRA</th>\n",
       "      <th>filter</th>\n",
       "      <th>fiveSigmaDepth</th>\n",
       "      <th>fieldDec</th>\n",
       "    </tr>\n",
       "  </thead>\n",
       "  <tbody>\n",
       "    <tr>\n",
       "      <th>0</th>\n",
       "      <td>59853.016794</td>\n",
       "      <td>1</td>\n",
       "      <td>1.004789</td>\n",
       "      <td>305.088793</td>\n",
       "      <td>z</td>\n",
       "      <td>23.348592</td>\n",
       "      <td>-24.889283</td>\n",
       "    </tr>\n",
       "    <tr>\n",
       "      <th>1</th>\n",
       "      <td>59853.017801</td>\n",
       "      <td>1</td>\n",
       "      <td>2.017072</td>\n",
       "      <td>302.892080</td>\n",
       "      <td>z</td>\n",
       "      <td>22.545454</td>\n",
       "      <td>29.966322</td>\n",
       "    </tr>\n",
       "    <tr>\n",
       "      <th>2</th>\n",
       "      <td>59853.019826</td>\n",
       "      <td>1</td>\n",
       "      <td>1.186596</td>\n",
       "      <td>305.482200</td>\n",
       "      <td>z</td>\n",
       "      <td>23.167857</td>\n",
       "      <td>-62.802603</td>\n",
       "    </tr>\n",
       "    <tr>\n",
       "      <th>3</th>\n",
       "      <td>59853.020278</td>\n",
       "      <td>1</td>\n",
       "      <td>1.152827</td>\n",
       "      <td>307.103419</td>\n",
       "      <td>z</td>\n",
       "      <td>23.201599</td>\n",
       "      <td>-60.072224</td>\n",
       "    </tr>\n",
       "    <tr>\n",
       "      <th>4</th>\n",
       "      <td>59853.020729</td>\n",
       "      <td>1</td>\n",
       "      <td>1.123414</td>\n",
       "      <td>308.429608</td>\n",
       "      <td>z</td>\n",
       "      <td>23.231315</td>\n",
       "      <td>-57.316612</td>\n",
       "    </tr>\n",
       "  </tbody>\n",
       "</table>\n",
       "</div>"
      ],
      "text/plain": [
       "   observationStartMJD  night   airmass     fieldRA filter  fiveSigmaDepth  \\\n",
       "0         59853.016794      1  1.004789  305.088793      z       23.348592   \n",
       "1         59853.017801      1  2.017072  302.892080      z       22.545454   \n",
       "2         59853.019826      1  1.186596  305.482200      z       23.167857   \n",
       "3         59853.020278      1  1.152827  307.103419      z       23.201599   \n",
       "4         59853.020729      1  1.123414  308.429608      z       23.231315   \n",
       "\n",
       "    fieldDec  \n",
       "0 -24.889283  \n",
       "1  29.966322  \n",
       "2 -62.802603  \n",
       "3 -60.072224  \n",
       "4 -57.316612  "
      ]
     },
     "execution_count": 8,
     "metadata": {},
     "output_type": "execute_result"
    }
   ],
   "source": [
    "data_df.head()"
   ]
  },
  {
   "cell_type": "code",
   "execution_count": 9,
   "metadata": {},
   "outputs": [],
   "source": [
    "small_sample = []"
   ]
  },
  {
   "cell_type": "code",
   "execution_count": 10,
   "metadata": {},
   "outputs": [],
   "source": [
    "# Loop trough and only get the first 2 observations on each night"
   ]
  },
  {
   "cell_type": "code",
   "execution_count": 11,
   "metadata": {},
   "outputs": [],
   "source": [
    "for n in np.unique(data_df.night.values):\n",
    "    small_sample.append(data_df[data_df.night == n][0:2])"
   ]
  },
  {
   "cell_type": "code",
   "execution_count": 12,
   "metadata": {},
   "outputs": [],
   "source": [
    "mydb = pd.concat(small_sample)"
   ]
  },
  {
   "cell_type": "code",
   "execution_count": 13,
   "metadata": {},
   "outputs": [],
   "source": [
    "#change the col order to be a little nicer"
   ]
  },
  {
   "cell_type": "code",
   "execution_count": 14,
   "metadata": {},
   "outputs": [
    {
     "data": {
      "text/html": [
       "<div>\n",
       "<style>\n",
       "    .dataframe thead tr:only-child th {\n",
       "        text-align: right;\n",
       "    }\n",
       "\n",
       "    .dataframe thead th {\n",
       "        text-align: left;\n",
       "    }\n",
       "\n",
       "    .dataframe tbody tr th {\n",
       "        vertical-align: top;\n",
       "    }\n",
       "</style>\n",
       "<table border=\"1\" class=\"dataframe\">\n",
       "  <thead>\n",
       "    <tr style=\"text-align: right;\">\n",
       "      <th></th>\n",
       "      <th>night</th>\n",
       "      <th>observationStartMJD</th>\n",
       "      <th>filter</th>\n",
       "      <th>fieldRA</th>\n",
       "      <th>fieldDec</th>\n",
       "      <th>fiveSigmaDepth</th>\n",
       "      <th>airmass</th>\n",
       "    </tr>\n",
       "  </thead>\n",
       "  <tbody>\n",
       "    <tr>\n",
       "      <th>0</th>\n",
       "      <td>1</td>\n",
       "      <td>59853.016794</td>\n",
       "      <td>z</td>\n",
       "      <td>305.088793</td>\n",
       "      <td>-24.889283</td>\n",
       "      <td>23.348592</td>\n",
       "      <td>1.004789</td>\n",
       "    </tr>\n",
       "    <tr>\n",
       "      <th>1</th>\n",
       "      <td>1</td>\n",
       "      <td>59853.017801</td>\n",
       "      <td>z</td>\n",
       "      <td>302.892080</td>\n",
       "      <td>29.966322</td>\n",
       "      <td>22.545454</td>\n",
       "      <td>2.017072</td>\n",
       "    </tr>\n",
       "    <tr>\n",
       "      <th>772</th>\n",
       "      <td>2</td>\n",
       "      <td>59853.985324</td>\n",
       "      <td>z</td>\n",
       "      <td>294.547736</td>\n",
       "      <td>12.697577</td>\n",
       "      <td>22.647813</td>\n",
       "      <td>1.366074</td>\n",
       "    </tr>\n",
       "    <tr>\n",
       "      <th>773</th>\n",
       "      <td>2</td>\n",
       "      <td>59853.985764</td>\n",
       "      <td>z</td>\n",
       "      <td>292.965911</td>\n",
       "      <td>14.992815</td>\n",
       "      <td>22.599638</td>\n",
       "      <td>1.421099</td>\n",
       "    </tr>\n",
       "    <tr>\n",
       "      <th>1613</th>\n",
       "      <td>3</td>\n",
       "      <td>59854.984688</td>\n",
       "      <td>y</td>\n",
       "      <td>294.547736</td>\n",
       "      <td>12.697577</td>\n",
       "      <td>21.585365</td>\n",
       "      <td>1.366489</td>\n",
       "    </tr>\n",
       "    <tr>\n",
       "      <th>1614</th>\n",
       "      <td>3</td>\n",
       "      <td>59854.985139</td>\n",
       "      <td>y</td>\n",
       "      <td>292.965911</td>\n",
       "      <td>14.992815</td>\n",
       "      <td>21.529766</td>\n",
       "      <td>1.422345</td>\n",
       "    </tr>\n",
       "    <tr>\n",
       "      <th>1874</th>\n",
       "      <td>4</td>\n",
       "      <td>59855.986262</td>\n",
       "      <td>z</td>\n",
       "      <td>296.918411</td>\n",
       "      <td>-58.380321</td>\n",
       "      <td>22.623693</td>\n",
       "      <td>1.134010</td>\n",
       "    </tr>\n",
       "    <tr>\n",
       "      <th>1875</th>\n",
       "      <td>4</td>\n",
       "      <td>59855.986713</td>\n",
       "      <td>z</td>\n",
       "      <td>294.488727</td>\n",
       "      <td>-61.010990</td>\n",
       "      <td>22.625517</td>\n",
       "      <td>1.164413</td>\n",
       "    </tr>\n",
       "    <tr>\n",
       "      <th>2707</th>\n",
       "      <td>5</td>\n",
       "      <td>59856.985532</td>\n",
       "      <td>z</td>\n",
       "      <td>289.582803</td>\n",
       "      <td>0.187415</td>\n",
       "      <td>22.329336</td>\n",
       "      <td>1.172105</td>\n",
       "    </tr>\n",
       "    <tr>\n",
       "      <th>2708</th>\n",
       "      <td>5</td>\n",
       "      <td>59856.985984</td>\n",
       "      <td>z</td>\n",
       "      <td>287.999985</td>\n",
       "      <td>2.635102</td>\n",
       "      <td>22.300933</td>\n",
       "      <td>1.209209</td>\n",
       "    </tr>\n",
       "    <tr>\n",
       "      <th>3526</th>\n",
       "      <td>6</td>\n",
       "      <td>59857.985810</td>\n",
       "      <td>y</td>\n",
       "      <td>294.179858</td>\n",
       "      <td>-23.208171</td>\n",
       "      <td>21.704286</td>\n",
       "      <td>1.010303</td>\n",
       "    </tr>\n",
       "    <tr>\n",
       "      <th>3527</th>\n",
       "      <td>6</td>\n",
       "      <td>59857.986262</td>\n",
       "      <td>y</td>\n",
       "      <td>292.591264</td>\n",
       "      <td>-20.535329</td>\n",
       "      <td>21.702681</td>\n",
       "      <td>1.019667</td>\n",
       "    </tr>\n",
       "    <tr>\n",
       "      <th>4359</th>\n",
       "      <td>7</td>\n",
       "      <td>59858.986088</td>\n",
       "      <td>z</td>\n",
       "      <td>300.309610</td>\n",
       "      <td>-22.701923</td>\n",
       "      <td>22.888649</td>\n",
       "      <td>1.008808</td>\n",
       "    </tr>\n",
       "    <tr>\n",
       "      <th>4360</th>\n",
       "      <td>7</td>\n",
       "      <td>59858.986539</td>\n",
       "      <td>z</td>\n",
       "      <td>300.174508</td>\n",
       "      <td>-17.257170</td>\n",
       "      <td>22.868053</td>\n",
       "      <td>1.026369</td>\n",
       "    </tr>\n",
       "  </tbody>\n",
       "</table>\n",
       "</div>"
      ],
      "text/plain": [
       "      night  observationStartMJD filter     fieldRA   fieldDec  \\\n",
       "0         1         59853.016794      z  305.088793 -24.889283   \n",
       "1         1         59853.017801      z  302.892080  29.966322   \n",
       "772       2         59853.985324      z  294.547736  12.697577   \n",
       "773       2         59853.985764      z  292.965911  14.992815   \n",
       "1613      3         59854.984688      y  294.547736  12.697577   \n",
       "1614      3         59854.985139      y  292.965911  14.992815   \n",
       "1874      4         59855.986262      z  296.918411 -58.380321   \n",
       "1875      4         59855.986713      z  294.488727 -61.010990   \n",
       "2707      5         59856.985532      z  289.582803   0.187415   \n",
       "2708      5         59856.985984      z  287.999985   2.635102   \n",
       "3526      6         59857.985810      y  294.179858 -23.208171   \n",
       "3527      6         59857.986262      y  292.591264 -20.535329   \n",
       "4359      7         59858.986088      z  300.309610 -22.701923   \n",
       "4360      7         59858.986539      z  300.174508 -17.257170   \n",
       "\n",
       "      fiveSigmaDepth   airmass  \n",
       "0          23.348592  1.004789  \n",
       "1          22.545454  2.017072  \n",
       "772        22.647813  1.366074  \n",
       "773        22.599638  1.421099  \n",
       "1613       21.585365  1.366489  \n",
       "1614       21.529766  1.422345  \n",
       "1874       22.623693  1.134010  \n",
       "1875       22.625517  1.164413  \n",
       "2707       22.329336  1.172105  \n",
       "2708       22.300933  1.209209  \n",
       "3526       21.704286  1.010303  \n",
       "3527       21.702681  1.019667  \n",
       "4359       22.888649  1.008808  \n",
       "4360       22.868053  1.026369  "
      ]
     },
     "execution_count": 14,
     "metadata": {},
     "output_type": "execute_result"
    }
   ],
   "source": [
    "mydb[['night','observationStartMJD','filter','fieldRA','fieldDec','fiveSigmaDepth','airmass']]"
   ]
  },
  {
   "cell_type": "markdown",
   "metadata": {},
   "source": [
    "# Match MaxMetirc('airmass') example in slides\n",
    "This will match the dataSlice 1 table in the slides"
   ]
  },
  {
   "cell_type": "code",
   "execution_count": 15,
   "metadata": {},
   "outputs": [],
   "source": [
    "# The pass metric just passes data straight through.\n",
    "metric1 = metrics.MaxMetric(col='airmass')\n",
    "# use a unit slicer to grab all of the data\n",
    "slicer1 = slicers.OneDSlicer(sliceColName='night',binsize=1)\n",
    "# Use stric slq contraint so we only get the very first 2 observations in the table.\n",
    "sql1 = 'night <= 7 and filter = \"z\" and observationStartMJD <= 59853.017802'\n",
    "bundle1 = metricBundles.MetricBundle(metric1, slicer1, sql1)"
   ]
  },
  {
   "cell_type": "code",
   "execution_count": 16,
   "metadata": {},
   "outputs": [
    {
     "name": "stdout",
     "output_type": "stream",
     "text": [
      "Querying database SummaryAllProps with constraint night <= 7 and filter = \"z\" and observationStartMJD <= 59853.017802 for columns ['night', 'airmass']\n",
      "Found 2 visits\n",
      "Running:  [0]\n",
      "Completed metric generation.\n",
      "Running reduce methods.\n",
      "Running summary statistics.\n",
      "Completed.\n"
     ]
    },
    {
     "name": "stderr",
     "output_type": "stream",
     "text": [
      "/home/docmaf/lsst_repos/sims_maf/python/lsst/sims/maf/slicers/oneDSlicer.py:61: UserWarning: binMin = binMax (maybe your data is single-valued?). Increasing binMax by 1 (or 2*binsize, if binsize set).\n",
      "  warnings.warn('binMin = binMax (maybe your data is single-valued?). '\n"
     ]
    }
   ],
   "source": [
    "bg1 = metricBundles.MetricBundleGroup({0: bundle1}, opsimdb, outDir=outDir, resultsDb=resultsDb)\n",
    "bg1.runAll()"
   ]
  },
  {
   "cell_type": "markdown",
   "metadata": {},
   "source": [
    "Note from the output above that only 2 visits were found `Found 2 visits`."
   ]
  },
  {
   "cell_type": "markdown",
   "metadata": {},
   "source": [
    "Grab the metric data, and see that it is indeed the maximum airmass we expect and it matches what is shown on the slides."
   ]
  },
  {
   "cell_type": "code",
   "execution_count": 17,
   "metadata": {},
   "outputs": [
    {
     "data": {
      "text/plain": [
       "array([ 2.01707179])"
      ]
     },
     "execution_count": 17,
     "metadata": {},
     "output_type": "execute_result"
    }
   ],
   "source": [
    "bundle1.metricValues.compressed()"
   ]
  },
  {
   "cell_type": "markdown",
   "metadata": {},
   "source": [
    "# Match MaxMetirc('fiveSigmaDepth') example in slides\n",
    "This will match the dataSlice 1 table in the slides"
   ]
  },
  {
   "cell_type": "code",
   "execution_count": 32,
   "metadata": {},
   "outputs": [],
   "source": [
    "# The pass metric just passes data straight through.\n",
    "metric2 = metrics.MaxMetric(col='fiveSigmaDepth')\n",
    "# use a unit slicer to grab all of the data\n",
    "slicer2 = slicers.OneDSlicer(sliceColName='night',binsize=1)\n",
    "# Use stric slq contraint so we only get the very first 2 observations in the table.\n",
    "sql2 = 'night <= 7 and filter = \"z\" and observationStartMJD <= 59853.017802'\n",
    "bundle2 = metricBundles.MetricBundle(metric2, slicer2, sql2)"
   ]
  },
  {
   "cell_type": "code",
   "execution_count": 28,
   "metadata": {},
   "outputs": [
    {
     "name": "stdout",
     "output_type": "stream",
     "text": [
      "Querying database SummaryAllProps with constraint night <= 7 and filter = \"z\" and observationStartMJD <= 59853.017802 for columns ['fiveSigmaDepth', 'night']\n",
      "Found 2 visits\n",
      "Running:  [0]\n",
      "Completed metric generation.\n",
      "Running reduce methods.\n",
      "Running summary statistics.\n",
      "Completed.\n"
     ]
    },
    {
     "name": "stderr",
     "output_type": "stream",
     "text": [
      "/home/docmaf/lsst_repos/sims_maf/python/lsst/sims/maf/slicers/oneDSlicer.py:61: UserWarning: binMin = binMax (maybe your data is single-valued?). Increasing binMax by 1 (or 2*binsize, if binsize set).\n",
      "  warnings.warn('binMin = binMax (maybe your data is single-valued?). '\n"
     ]
    }
   ],
   "source": [
    "bg2 = metricBundles.MetricBundleGroup({0: bundle2}, opsimdb, outDir=outDir, resultsDb=resultsDb)\n",
    "bg2.runAll()"
   ]
  },
  {
   "cell_type": "code",
   "execution_count": 30,
   "metadata": {},
   "outputs": [
    {
     "data": {
      "text/plain": [
       "array([ 23.34859188])"
      ]
     },
     "execution_count": 30,
     "metadata": {},
     "output_type": "execute_result"
    }
   ],
   "source": [
    "bundle2.metricValues.compressed()"
   ]
  },
  {
   "cell_type": "code",
   "execution_count": null,
   "metadata": {},
   "outputs": [],
   "source": []
  }
 ],
 "metadata": {
  "kernelspec": {
   "display_name": "Python 3",
   "language": "python",
   "name": "python3"
  },
  "language_info": {
   "codemirror_mode": {
    "name": "ipython",
    "version": 3
   },
   "file_extension": ".py",
   "mimetype": "text/x-python",
   "name": "python",
   "nbconvert_exporter": "python",
   "pygments_lexer": "ipython3",
   "version": "3.6.2"
  }
 },
 "nbformat": 4,
 "nbformat_minor": 2
}
